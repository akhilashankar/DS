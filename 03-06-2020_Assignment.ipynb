{
 "cells": [
  {
   "cell_type": "markdown",
   "metadata": {},
   "source": [
    "# CSE-221710313005 Akhila Shankar"
   ]
  },
  {
   "cell_type": "code",
   "execution_count": 2,
   "metadata": {},
   "outputs": [
    {
     "name": "stdout",
     "output_type": "stream",
     "text": [
      "this is the internship program on data science with python,AI AND ML,ADvanc programming and full stack development\n"
     ]
    }
   ],
   "source": [
    "#1 question\n",
    "f=open(\"file1.txt\",\"w\")\n",
    "f.write(\"this is the internship program on data science with python,AI AND ML,ADvanc programming and full stack development\")\n",
    "f.close()\n",
    "f=open(\"file1.txt\",\"r\")\n",
    "data=f.read()\n",
    "print(data)\n",
    "f.close()\n",
    "f=open(\"file3.txt\",\"w\")\n",
    "f.write(data[::-1])\n",
    "f.close()"
   ]
  },
  {
   "cell_type": "code",
   "execution_count": 4,
   "metadata": {},
   "outputs": [
    {
     "name": "stdout",
     "output_type": "stream",
     "text": [
      "contents in order:\n",
      "1.this is the internship program on\n",
      "2.data science with python\n",
      "3.AI AND ML\n",
      "4.ADvanc programming\n",
      "5.full stack development\n"
     ]
    }
   ],
   "source": [
    "#2 question\n",
    "T=[\"this is the internship program on\\n\",\"data science with python\\n\",\"AI AND ML\\n\",\"ADvanc programming\\n\",\"full stack development\\n\"\n",
    "]\n",
    "f1=open(\"myfile1.txt\",\"w\")\n",
    "f1.writelines(T)\n",
    "f1.close()\n",
    "f1=open(\"myfile1.txt\",\"r\")\n",
    "count=0\n",
    "print(\"contents in order:\")\n",
    "for line in f1:\n",
    "    count=count+1\n",
    "    print(\"{}.{}\".format(count,line.strip()))\n",
    "f1.close()"
   ]
  },
  {
   "cell_type": "code",
   "execution_count": 4,
   "metadata": {},
   "outputs": [
    {
     "name": "stdout",
     "output_type": "stream",
     "text": [
      "1.3333333333333333\n",
      "0.4444444444444444\n",
      "0.16666666666666663\n"
     ]
    }
   ],
   "source": [
    "#4 question\n",
    "import functions as fr\n",
    "print(fr.add_fraction(2/3,4/6))\n",
    "print(fr.mul_fraction(2/3,4/6))\n",
    "\n",
    "print(fr.sub_fraction(2/3,1/2))"
   ]
  },
  {
   "cell_type": "code",
   "execution_count": 5,
   "metadata": {},
   "outputs": [
    {
     "name": "stdout",
     "output_type": "stream",
     "text": [
      "True\n"
     ]
    }
   ],
   "source": [
    "#3 question\n",
    "def duplicates(listofele):\n",
    "    if len(list1)==len(set(list1)):\n",
    "        return False\n",
    "    else:\n",
    "        return True\n",
    "list1=[1,2,2,3,4]\n",
    "res=duplicates(list1)\n",
    "print(res)"
   ]
  },
  {
   "cell_type": "code",
   "execution_count": 26,
   "metadata": {},
   "outputs": [
    {
     "name": "stdout",
     "output_type": "stream",
     "text": [
      "enter l1 size3\n",
      "1\n",
      "1\n",
      "2\n",
      "enter l2 size3\n",
      "1\n",
      "2\n",
      "1\n",
      "True\n"
     ]
    }
   ],
   "source": [
    "#5 question\n",
    "def perm(l1,l2):\n",
    "    if sorted(l2)==sorted(l1):\n",
    "        return True\n",
    "    else:\n",
    "        return False\n",
    "l1=[]\n",
    "n1=int(input(\"enter l1 size\"))\n",
    "for i in range(0,n1):\n",
    "    ele=int(input())\n",
    "    l1.append(ele)\n",
    "l2=[]\n",
    "n2=int(input(\"enter l2 size\"))\n",
    "for i in range(0,n2):\n",
    "    ele=int(input())\n",
    "    l2.append(ele)\n",
    "if(n1==n2):\n",
    "    res=perm(l1,l2)\n",
    "    print(res)\n",
    "else:\n",
    "    print(\"False\")"
   ]
  },
  {
   "cell_type": "code",
   "execution_count": null,
   "metadata": {},
   "outputs": [
    {
     "name": "stdout",
     "output_type": "stream",
     "text": [
      "1\n",
      "2\n",
      "1\n",
      "2\n",
      "1 / 2  +  1 / 2  is equal to 1 / 1\n"
     ]
    }
   ],
   "source": [
    "#4 question\n",
    "import fractions as fr\n",
    "print(fr.intofrac(1,2))\n",
    "print(fr.su)"
   ]
  },
  {
   "cell_type": "code",
   "execution_count": null,
   "metadata": {},
   "outputs": [],
   "source": []
  }
 ],
 "metadata": {
  "kernelspec": {
   "display_name": "Python 3",
   "language": "python",
   "name": "python3"
  },
  "language_info": {
   "codemirror_mode": {
    "name": "ipython",
    "version": 3
   },
   "file_extension": ".py",
   "mimetype": "text/x-python",
   "name": "python",
   "nbconvert_exporter": "python",
   "pygments_lexer": "ipython3",
   "version": "3.7.4"
  }
 },
 "nbformat": 4,
 "nbformat_minor": 2
}
