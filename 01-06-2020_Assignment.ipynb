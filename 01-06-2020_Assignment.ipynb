{
 "cells": [
  {
   "cell_type": "markdown",
   "metadata": {},
   "source": [
    "# CSE-221710313005 Akhila Shankar"
   ]
  },
  {
   "cell_type": "code",
   "execution_count": 2,
   "metadata": {},
   "outputs": [
    {
     "name": "stdout",
     "output_type": "stream",
     "text": [
      "enter yes to accept password and no to generate another passwordno\n",
      "jumpingtrain8#\n",
      "enter yes to accept password and no to generate another passwordno\n",
      "cryingmountain8*\n",
      "enter yes to accept password and no to generate another passwordno\n",
      "sleepingwater7$\n",
      "enter yes to accept password and no to generate another passwordno\n",
      "singingjack3@\n",
      "enter yes to accept password and no to generate another passwordyes\n"
     ]
    }
   ],
   "source": [
    "import random\n",
    "\n",
    "l1=[\"running\",\"eating\",\"sleeping\",\"jumping\",\"dancing\",\"singing\",\"writing\",\"reading\",\"crying\",\"walking\"]\n",
    "l2=[\"train\",\"water\",\"mango\",\"tiger\",\"jack\",\"car\",\"queen\",\"mountain\",\"ocean\",\"delhi\"]\n",
    "sym=[\"!\",\"@\",\"#\",\"$\",\"%\",\"^\",\"&\",\"*\",\"(\",\")\"]\n",
    "digit = ['0', '1', '2', '3', '4', '5', '6', '7', '8', '9']\n",
    "while(True):\n",
    "    \n",
    "    op=input(\"enter yes to accept password and no to generate another password\")\n",
    "    if(op==\"no\"):\n",
    "        password=random.choice(l1)+random.choice(l2)+random.choice(digit)+random.choice(sym)\n",
    "        print(password)\n",
    "    else:\n",
    "        break\n",
    "\n",
    "    "
   ]
  },
  {
   "cell_type": "code",
   "execution_count": 1,
   "metadata": {},
   "outputs": [
    {
     "data": {
      "text/plain": [
       "'C:\\\\Users\\\\lenovo\\\\Desktop\\\\Summer internship\\\\data science'"
      ]
     },
     "execution_count": 1,
     "metadata": {},
     "output_type": "execute_result"
    }
   ],
   "source": [
    "pwd\n"
   ]
  },
  {
   "cell_type": "code",
   "execution_count": 2,
   "metadata": {},
   "outputs": [],
   "source": [
    "import os\n",
    "import string\n",
    "import random\n",
    "os.mkdir(\"python class\")\n",
    "for i in range(1,6):\n",
    "    file_name=\"C:\\\\Users\\\\lenovo\\\\Desktop\\\\Summer internship\\\\data science\\\\python class\\\\file%d\"%(i)\n",
    "    f=open(file_name,\"w\")\n",
    "    data=\" \"\n",
    "    for i in range(512):\n",
    "        data=data+random.choice(string.ascii_letters)\n",
    "    f.write(data)\n",
    "    f.close()"
   ]
  },
  {
   "cell_type": "code",
   "execution_count": null,
   "metadata": {},
   "outputs": [],
   "source": []
  }
 ],
 "metadata": {
  "kernelspec": {
   "display_name": "Python 3",
   "language": "python",
   "name": "python3"
  },
  "language_info": {
   "codemirror_mode": {
    "name": "ipython",
    "version": 3
   },
   "file_extension": ".py",
   "mimetype": "text/x-python",
   "name": "python",
   "nbconvert_exporter": "python",
   "pygments_lexer": "ipython3",
   "version": "3.7.4"
  }
 },
 "nbformat": 4,
 "nbformat_minor": 2
}
