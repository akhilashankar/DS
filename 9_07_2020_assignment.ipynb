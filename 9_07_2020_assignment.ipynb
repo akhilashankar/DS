{
  "nbformat": 4,
  "nbformat_minor": 0,
  "metadata": {
    "colab": {
      "name": "9-07-2020-assignment",
      "provenance": []
    },
    "kernelspec": {
      "display_name": "Python 3",
      "language": "python",
      "name": "python3"
    },
    "language_info": {
      "codemirror_mode": {
        "name": "ipython",
        "version": 3
      },
      "file_extension": ".py",
      "mimetype": "text/x-python",
      "name": "python",
      "nbconvert_exporter": "python",
      "pygments_lexer": "ipython3",
      "version": "3.7.6"
    }
  },
  "cells": [
    {
      "cell_type": "markdown",
      "metadata": {
        "colab_type": "text",
        "id": "lHYB5Ip2FrNS"
      },
      "source": [
        "### CSE-221710313005-Akhila shankar"
      ]
    },
    {
      "cell_type": "code",
      "metadata": {
        "colab_type": "code",
        "id": "uX_yTmw2FV9U",
        "colab": {}
      },
      "source": [
        "import tensorflow as tf\n",
        "import tensorflow.keras as keras\n",
        "import numpy as np\n",
        "import matplotlib.pyplot as plt\n",
        "%matplotlib inline"
      ],
      "execution_count": 1,
      "outputs": []
    },
    {
      "cell_type": "code",
      "metadata": {
        "colab_type": "code",
        "id": "sVRllwXyFeTC",
        "colab": {
          "base_uri": "https://localhost:8080/",
          "height": 34
        },
        "outputId": "ec25f451-6486-486d-c071-01b959c37e42"
      },
      "source": [
        "from keras.datasets.mnist import load_data"
      ],
      "execution_count": 2,
      "outputs": [
        {
          "output_type": "stream",
          "text": [
            "Using TensorFlow backend.\n"
          ],
          "name": "stderr"
        }
      ]
    },
    {
      "cell_type": "code",
      "metadata": {
        "colab_type": "code",
        "id": "q-IO4IHGFiGu",
        "colab": {
          "base_uri": "https://localhost:8080/",
          "height": 84
        },
        "outputId": "f05b71ab-7a87-4eb0-cb74-82a565f02e19"
      },
      "source": [
        "(train_digits,train_labels),(test_digits,test_labels)=load_data()\n",
        "print(train_digits.shape)\n",
        "print(test_digits.shape)"
      ],
      "execution_count": 3,
      "outputs": [
        {
          "output_type": "stream",
          "text": [
            "Downloading data from https://s3.amazonaws.com/img-datasets/mnist.npz\n",
            "11493376/11490434 [==============================] - 2s 0us/step\n",
            "(60000, 28, 28)\n",
            "(10000, 28, 28)\n"
          ],
          "name": "stdout"
        }
      ]
    },
    {
      "cell_type": "code",
      "metadata": {
        "colab_type": "code",
        "id": "6MxmXm7DFlru",
        "colab": {
          "base_uri": "https://localhost:8080/",
          "height": 218
        },
        "outputId": "5a4667e3-b1e1-40c0-8442-d92251a77a68"
      },
      "source": [
        "import pandas as pd\n",
        "pd.Series(train_labels).value_counts"
      ],
      "execution_count": 4,
      "outputs": [
        {
          "output_type": "execute_result",
          "data": {
            "text/plain": [
              "<bound method IndexOpsMixin.value_counts of 0        5\n",
              "1        0\n",
              "2        4\n",
              "3        1\n",
              "4        9\n",
              "        ..\n",
              "59995    8\n",
              "59996    3\n",
              "59997    5\n",
              "59998    6\n",
              "59999    8\n",
              "Length: 60000, dtype: uint8>"
            ]
          },
          "metadata": {
            "tags": []
          },
          "execution_count": 4
        }
      ]
    },
    {
      "cell_type": "code",
      "metadata": {
        "colab_type": "code",
        "id": "nR445WoSFqZa",
        "colab": {
          "base_uri": "https://localhost:8080/",
          "height": 218
        },
        "outputId": "b69188db-878b-4a94-c8f0-5651421a19b5"
      },
      "source": [
        "pd.Series(test_labels).value_counts"
      ],
      "execution_count": 5,
      "outputs": [
        {
          "output_type": "execute_result",
          "data": {
            "text/plain": [
              "<bound method IndexOpsMixin.value_counts of 0       7\n",
              "1       2\n",
              "2       1\n",
              "3       0\n",
              "4       4\n",
              "       ..\n",
              "9995    2\n",
              "9996    3\n",
              "9997    4\n",
              "9998    5\n",
              "9999    6\n",
              "Length: 10000, dtype: uint8>"
            ]
          },
          "metadata": {
            "tags": []
          },
          "execution_count": 5
        }
      ]
    },
    {
      "cell_type": "code",
      "metadata": {
        "colab_type": "code",
        "id": "cpAtNO7vGjmt",
        "colab": {
          "base_uri": "https://localhost:8080/",
          "height": 282
        },
        "outputId": "66fd9a2c-1175-4d45-a854-f9f56a7193cc"
      },
      "source": [
        "plt.imshow(train_digits[0])"
      ],
      "execution_count": 6,
      "outputs": [
        {
          "output_type": "execute_result",
          "data": {
            "text/plain": [
              "<matplotlib.image.AxesImage at 0x7fbeca830f28>"
            ]
          },
          "metadata": {
            "tags": []
          },
          "execution_count": 6
        },
        {
          "output_type": "display_data",
          "data": {
            "image/png": "[encoded data removed]",
            "text/plain": [
              "<Figure size 432x288 with 1 Axes>"
            ]
          },
          "metadata": {
            "tags": [],
            "needs_background": "light"
          }
        }
      ]
    },
    {
      "cell_type": "code",
      "metadata": {
        "colab_type": "code",
        "id": "S0rAqfS4GnH8",
        "colab": {
          "base_uri": "https://localhost:8080/",
          "height": 298
        },
        "outputId": "0e935477-b528-440b-e507-6dcd4ec9b16c"
      },
      "source": [
        "plt.title(\"Digit:\"+str(train_labels[0]))\n",
        "plt.imshow(train_digits[0],cmap=\"gray\")"
      ],
      "execution_count": 7,
      "outputs": [
        {
          "output_type": "execute_result",
          "data": {
            "text/plain": [
              "<matplotlib.image.AxesImage at 0x7fbeca2f2208>"
            ]
          },
          "metadata": {
            "tags": []
          },
          "execution_count": 7
        },
        {
          "output_type": "display_data",
          "data": {
            "image/png": "[encoded data removed]",
            "text/plain": [
              "<Figure size 432x288 with 1 Axes>"
            ]
          },
          "metadata": {
            "tags": [],
            "needs_background": "light"
          }
        }
      ]
    },
    {
      "cell_type": "code",
      "metadata": {
        "colab_type": "code",
        "id": "XszRGi1RGqqn",
        "colab": {
          "base_uri": "https://localhost:8080/",
          "height": 265
        },
        "outputId": "cfc19241-e132-4118-831f-41acb87ca946"
      },
      "source": [
        "plt.hist(train_digits[0])\n",
        "plt.show()"
      ],
      "execution_count": 8,
      "outputs": [
        {
          "output_type": "display_data",
          "data": {
            "image/png": "[encoded data removed]",
            "text/plain": [
              "<Figure size 432x288 with 1 Axes>"
            ]
          },
          "metadata": {
            "tags": [],
            "needs_background": "light"
          }
        }
      ]
    },
    {
      "cell_type": "code",
      "metadata": {
        "colab_type": "code",
        "id": "uGIFHbm_GtjS",
        "colab": {
          "base_uri": "https://localhost:8080/",
          "height": 50
        },
        "outputId": "10764e38-9a4b-403a-ed4d-04ace66513cb"
      },
      "source": [
        "samp=np.random.randint(train_digits.shape[0],size=16)\n",
        "samp"
      ],
      "execution_count": 9,
      "outputs": [
        {
          "output_type": "execute_result",
          "data": {
            "text/plain": [
              "array([11126,   111,  4855, 52093, 19137, 55571, 22669,  7854, 41917,\n",
              "       22085, 42416, 44252, 38316, 27897, 55473,  9512])"
            ]
          },
          "metadata": {
            "tags": []
          },
          "execution_count": 9
        }
      ]
    },
    {
      "cell_type": "code",
      "metadata": {
        "colab_type": "code",
        "id": "vhECXaU1GwfB",
        "colab": {
          "base_uri": "https://localhost:8080/",
          "height": 917
        },
        "outputId": "b2e116d3-73ed-4c2b-d423-7d69ba9273a2"
      },
      "source": [
        "plt.figure(figsize=(16,16))\n",
        "j=1\n",
        "for i in samp:\n",
        "  plt.subplot(4,4,j)\n",
        "  plt.imshow(train_digits[i])\n",
        "  plt.title(\"Digit:\"+str(train_labels[i]))\n",
        "  plt.axis(\"off\")\n",
        "  j=j+1"
      ],
      "execution_count": 10,
      "outputs": [
        {
          "output_type": "display_data",
          "data": {
            "image/png": "[encoded data removed]",
            "text/plain": [
              "<Figure size 1152x1152 with 16 Axes>"
            ]
          },
          "metadata": {
            "tags": [],
            "needs_background": "light"
          }
        }
      ]
    },
    {
      "cell_type": "code",
      "metadata": {
        "colab_type": "code",
        "id": "CeS8uGOyGzyz",
        "colab": {}
      },
      "source": [
        "train_digits_sc=train_digits/255.0\n",
        "test_digits_sc=test_digits/255.0"
      ],
      "execution_count": 11,
      "outputs": []
    },
    {
      "cell_type": "code",
      "metadata": {
        "colab_type": "code",
        "id": "LwUpm-xEG7u3",
        "colab": {}
      },
      "source": [
        "from keras.utils import to_categorical"
      ],
      "execution_count": 12,
      "outputs": []
    },
    {
      "cell_type": "code",
      "metadata": {
        "colab_type": "code",
        "id": "yh10UxdnG-UK",
        "colab": {}
      },
      "source": [
        "train_labels_cat=to_categorical(train_labels)"
      ],
      "execution_count": 13,
      "outputs": []
    },
    {
      "cell_type": "code",
      "metadata": {
        "colab_type": "code",
        "id": "AqlD3bDSHAos",
        "colab": {}
      },
      "source": [
        "test_labels_cat=to_categorical(test_labels)"
      ],
      "execution_count": 14,
      "outputs": []
    },
    {
      "cell_type": "code",
      "metadata": {
        "colab_type": "code",
        "id": "ZmPeSz9QHDIO",
        "colab": {
          "base_uri": "https://localhost:8080/",
          "height": 84
        },
        "outputId": "5f65a8a4-70c8-463c-9f06-ee24adda8c89"
      },
      "source": [
        "from sklearn.model_selection import train_test_split\n",
        "x_train,x_val,y_train,y_val=train_test_split(train_digits_sc,train_labels_cat,test_size=0.1,random_state=32)\n",
        "print(x_train.shape)\n",
        "print(x_val.shape)\n",
        "print(y_train.shape)\n",
        "print(y_val.shape)"
      ],
      "execution_count": 15,
      "outputs": [
        {
          "output_type": "stream",
          "text": [
            "(54000, 28, 28)\n",
            "(6000, 28, 28)\n",
            "(54000, 10)\n",
            "(6000, 10)\n"
          ],
          "name": "stdout"
        }
      ]
    },
    {
      "cell_type": "code",
      "metadata": {
        "colab_type": "code",
        "id": "dGsCN8mMHF0X",
        "colab": {
          "base_uri": "https://localhost:8080/",
          "height": 353
        },
        "outputId": "781442ff-e25a-4742-87c8-6bef9d4eca79"
      },
      "source": [
        "from keras.models import Sequential\n",
        "from keras.layers import Dense,Flatten\n",
        "\n",
        "model = Sequential()\n",
        "# first layer we need to mention the input shape\n",
        "\n",
        "model.add(Flatten(input_shape=(28,28)))\n",
        "## 784 pixel values as input to this Dense. 128 Neurons in the layers\n",
        "model.add(Dense(128,activation='relu'))# 784 * 128+128\n",
        "model.add(Dense(128,activation='relu'))# \n",
        "model.add(Dense(64,activation='relu'))\n",
        "model.add(Dense(256,activation='relu'))\n",
        "#Final layer\n",
        "model.add(Dense(10,activation='softmax'))\n",
        "model.summary()"
      ],
      "execution_count": 16,
      "outputs": [
        {
          "output_type": "stream",
          "text": [
            "Model: \"sequential_1\"\n",
            "_________________________________________________________________\n",
            "Layer (type)                 Output Shape              Param #   \n",
            "=================================================================\n",
            "flatten_1 (Flatten)          (None, 784)               0         \n",
            "_________________________________________________________________\n",
            "dense_1 (Dense)              (None, 128)               100480    \n",
            "_________________________________________________________________\n",
            "dense_2 (Dense)              (None, 128)               16512     \n",
            "_________________________________________________________________\n",
            "dense_3 (Dense)              (None, 64)                8256      \n",
            "_________________________________________________________________\n",
            "dense_4 (Dense)              (None, 256)               16640     \n",
            "_________________________________________________________________\n",
            "dense_5 (Dense)              (None, 10)                2570      \n",
            "=================================================================\n",
            "Total params: 144,458\n",
            "Trainable params: 144,458\n",
            "Non-trainable params: 0\n",
            "_________________________________________________________________\n"
          ],
          "name": "stdout"
        }
      ]
    },
    {
      "cell_type": "code",
      "metadata": {
        "colab_type": "code",
        "id": "dPVqE0NaHJKn",
        "colab": {}
      },
      "source": [
        "model.compile(optimizer='adam',loss=tf.keras.losses.CategoricalCrossentropy(),metrics=['accuracy'])"
      ],
      "execution_count": 17,
      "outputs": []
    },
    {
      "cell_type": "code",
      "metadata": {
        "colab_type": "code",
        "id": "AChWvUSDHNWG",
        "colab": {
          "base_uri": "https://localhost:8080/",
          "height": 202
        },
        "outputId": "bb69cacc-3a01-461d-bd83-30b9b67c3aad"
      },
      "source": [
        "history=model.fit(x=x_train,y=y_train,epochs=5,validation_data=(x_val,y_val),batch_size=32)"
      ],
      "execution_count": 18,
      "outputs": [
        {
          "output_type": "stream",
          "text": [
            "Train on 54000 samples, validate on 6000 samples\n",
            "Epoch 1/5\n",
            "54000/54000 [==============================] - 6s 117us/step - loss: 0.2467 - accuracy: 0.9237 - val_loss: 0.1368 - val_accuracy: 0.9598\n",
            "Epoch 2/5\n",
            "54000/54000 [==============================] - 6s 111us/step - loss: 0.1110 - accuracy: 0.9658 - val_loss: 0.1222 - val_accuracy: 0.9653\n",
            "Epoch 3/5\n",
            "54000/54000 [==============================] - 6s 111us/step - loss: 0.0817 - accuracy: 0.9749 - val_loss: 0.1196 - val_accuracy: 0.9682\n",
            "Epoch 4/5\n",
            "54000/54000 [==============================] - 6s 112us/step - loss: 0.0654 - accuracy: 0.9800 - val_loss: 0.1089 - val_accuracy: 0.9723\n",
            "Epoch 5/5\n",
            "54000/54000 [==============================] - 6s 114us/step - loss: 0.0577 - accuracy: 0.9819 - val_loss: 0.1021 - val_accuracy: 0.9738\n"
          ],
          "name": "stdout"
        }
      ]
    },
    {
      "cell_type": "code",
      "metadata": {
        "colab_type": "code",
        "id": "3Ig8LedmHQQ1",
        "colab": {
          "base_uri": "https://localhost:8080/",
          "height": 50
        },
        "outputId": "e7bc0bf2-6ae4-4b3b-a75b-7c3a01e92a23"
      },
      "source": [
        "model.evaluate(test_digits_sc,test_labels_cat)"
      ],
      "execution_count": 19,
      "outputs": [
        {
          "output_type": "stream",
          "text": [
            "10000/10000 [==============================] - 0s 29us/step\n"
          ],
          "name": "stdout"
        },
        {
          "output_type": "execute_result",
          "data": {
            "text/plain": [
              "[0.08788607495386386, 0.9750999808311462]"
            ]
          },
          "metadata": {
            "tags": []
          },
          "execution_count": 19
        }
      ]
    },
    {
      "cell_type": "code",
      "metadata": {
        "colab_type": "code",
        "id": "upzAJ9yKHcwA",
        "colab": {
          "base_uri": "https://localhost:8080/",
          "height": 67
        },
        "outputId": "682a4ce1-76d6-46a4-de3e-e00e5f45dee5"
      },
      "source": [
        "print(test_digits_sc.shape)\n",
        "print(test_digits_sc[0].shape)\n",
        "print(np.expand_dims(test_digits_sc[0],axis=0).shape)"
      ],
      "execution_count": 20,
      "outputs": [
        {
          "output_type": "stream",
          "text": [
            "(10000, 28, 28)\n",
            "(28, 28)\n",
            "(1, 28, 28)\n"
          ],
          "name": "stdout"
        }
      ]
    },
    {
      "cell_type": "code",
      "metadata": {
        "colab_type": "code",
        "id": "rwV9he6yIpH5",
        "colab": {
          "base_uri": "https://localhost:8080/",
          "height": 67
        },
        "outputId": "5ca82e95-434f-4847-f43d-3146d0fc90ca"
      },
      "source": [
        "model.predict(np.expand_dims(test_digits_sc[0],axis=0))"
      ],
      "execution_count": 21,
      "outputs": [
        {
          "output_type": "execute_result",
          "data": {
            "text/plain": [
              "array([[3.2259102e-08, 8.8519400e-06, 7.6456473e-04, 5.4352693e-03,\n",
              "        1.0851468e-07, 3.0957682e-07, 3.6653316e-10, 9.9364626e-01,\n",
              "        1.5451136e-05, 1.2913547e-04]], dtype=float32)"
            ]
          },
          "metadata": {
            "tags": []
          },
          "execution_count": 21
        }
      ]
    },
    {
      "cell_type": "code",
      "metadata": {
        "colab_type": "code",
        "id": "nMUpTjYkIsef",
        "colab": {
          "base_uri": "https://localhost:8080/",
          "height": 521
        },
        "outputId": "bbcb1f7e-884a-49b5-e067-e963fec0c002"
      },
      "source": [
        "model.predict(test_digits_sc[:10])"
      ],
      "execution_count": 22,
      "outputs": [
        {
          "output_type": "execute_result",
          "data": {
            "text/plain": [
              "array([[3.22591660e-08, 8.85194004e-06, 7.64564727e-04, 5.43526933e-03,\n",
              "        1.08514683e-07, 3.09576819e-07, 3.66531749e-10, 9.93646264e-01,\n",
              "        1.54511363e-05, 1.29135471e-04],\n",
              "       [6.82882584e-10, 2.88805353e-08, 9.99999881e-01, 1.20368171e-07,\n",
              "        7.18075244e-09, 1.51135260e-09, 5.91664850e-09, 2.47308241e-09,\n",
              "        1.86138429e-08, 2.68054762e-11],\n",
              "       [1.77261583e-08, 9.99908566e-01, 1.63739005e-05, 6.11925827e-07,\n",
              "        2.67362993e-05, 2.51534721e-06, 4.04457342e-06, 2.36816722e-05,\n",
              "        1.60720920e-05, 1.38297219e-06],\n",
              "       [9.99633551e-01, 5.22104017e-07, 2.08353027e-04, 9.90220633e-06,\n",
              "        3.91371532e-06, 6.47144680e-06, 3.94953240e-05, 1.67524722e-05,\n",
              "        9.07112917e-06, 7.19823583e-05],\n",
              "       [3.27903260e-09, 5.83017759e-08, 4.76658970e-05, 2.20822458e-10,\n",
              "        9.99938488e-01, 3.54836338e-08, 6.33278842e-06, 2.43678301e-06,\n",
              "        1.71115445e-07, 4.89255899e-06],\n",
              "       [6.25732133e-10, 9.99959707e-01, 8.61470028e-07, 2.78078485e-08,\n",
              "        1.80175721e-05, 2.09764679e-07, 2.82771452e-07, 1.89186994e-05,\n",
              "        1.52752011e-06, 3.97330297e-07],\n",
              "       [6.71863347e-07, 1.97861755e-05, 5.34806401e-04, 1.50708985e-07,\n",
              "        9.93177176e-01, 2.31041195e-05, 1.67313742e-03, 1.67004782e-05,\n",
              "        4.45530703e-03, 9.90108310e-05],\n",
              "       [5.40483541e-07, 3.95519351e-07, 3.56224496e-06, 9.31318384e-04,\n",
              "        2.49631084e-05, 2.19561742e-04, 2.88253581e-08, 1.07996195e-04,\n",
              "        3.34806646e-06, 9.98708248e-01],\n",
              "       [2.51124970e-08, 8.16621881e-09, 9.32622129e-07, 8.70062922e-06,\n",
              "        2.31591429e-07, 9.99832749e-01, 1.13665141e-04, 5.71393777e-09,\n",
              "        3.87583668e-06, 3.97658187e-05],\n",
              "       [4.27187615e-07, 3.91272650e-08, 1.20849688e-06, 1.72990112e-05,\n",
              "        4.26903944e-06, 1.06587663e-06, 3.01153058e-09, 1.74961533e-05,\n",
              "        3.08666567e-05, 9.99927282e-01]], dtype=float32)"
            ]
          },
          "metadata": {
            "tags": []
          },
          "execution_count": 22
        }
      ]
    },
    {
      "cell_type": "code",
      "metadata": {
        "colab_type": "code",
        "id": "UpLMy3loIwKZ",
        "colab": {
          "base_uri": "https://localhost:8080/",
          "height": 34
        },
        "outputId": "5e97afaf-3d3b-44d0-ec37-14f96c4e80f3"
      },
      "source": [
        "model.predict_classes(np.expand_dims(test_digits_sc[0],axis=0))"
      ],
      "execution_count": 23,
      "outputs": [
        {
          "output_type": "execute_result",
          "data": {
            "text/plain": [
              "array([7])"
            ]
          },
          "metadata": {
            "tags": []
          },
          "execution_count": 23
        }
      ]
    },
    {
      "cell_type": "code",
      "metadata": {
        "colab_type": "code",
        "id": "ix2U29g_Izhp",
        "colab": {
          "base_uri": "https://localhost:8080/",
          "height": 67
        },
        "outputId": "d5dd4b2c-ccda-43f8-b6d1-c402e1b6ccd8"
      },
      "source": [
        "model.predict_proba(np.expand_dims(test_digits_sc[0],axis=0))"
      ],
      "execution_count": 24,
      "outputs": [
        {
          "output_type": "execute_result",
          "data": {
            "text/plain": [
              "array([[3.2259102e-08, 8.8519400e-06, 7.6456473e-04, 5.4352693e-03,\n",
              "        1.0851468e-07, 3.0957682e-07, 3.6653316e-10, 9.9364626e-01,\n",
              "        1.5451136e-05, 1.2913547e-04]], dtype=float32)"
            ]
          },
          "metadata": {
            "tags": []
          },
          "execution_count": 24
        }
      ]
    },
    {
      "cell_type": "code",
      "metadata": {
        "colab_type": "code",
        "id": "GSuf7gdNI3I1",
        "colab": {
          "base_uri": "https://localhost:8080/",
          "height": 286
        },
        "outputId": "4b7f84f5-cab4-490b-9f96-c702b1c9c553"
      },
      "source": [
        "history.history"
      ],
      "execution_count": 25,
      "outputs": [
        {
          "output_type": "execute_result",
          "data": {
            "text/plain": [
              "{'accuracy': [0.92370373, 0.9658333, 0.9749445, 0.9800185, 0.9819074],\n",
              " 'loss': [0.2467033656631355,\n",
              "  0.11095017790815069,\n",
              "  0.08174980317828832,\n",
              "  0.06538155551339259,\n",
              "  0.05774114421988122],\n",
              " 'val_accuracy': [0.9598333239555359,\n",
              "  0.9653333425521851,\n",
              "  0.9681666493415833,\n",
              "  0.9723333120346069,\n",
              "  0.9738333225250244],\n",
              " 'val_loss': [0.136809141750137,\n",
              "  0.12224740229547024,\n",
              "  0.11960819868619244,\n",
              "  0.10891173463842521,\n",
              "  0.10212686113035306]}"
            ]
          },
          "metadata": {
            "tags": []
          },
          "execution_count": 25
        }
      ]
    },
    {
      "cell_type": "code",
      "metadata": {
        "colab_type": "code",
        "id": "8R0r9xzTI552",
        "colab": {
          "base_uri": "https://localhost:8080/",
          "height": 282
        },
        "outputId": "72064c91-d344-45e3-ecf8-133afb9584e1"
      },
      "source": [
        "plt.plot(history.history['accuracy'])\n",
        "plt.plot(history.history['val_accuracy'])"
      ],
      "execution_count": 26,
      "outputs": [
        {
          "output_type": "execute_result",
          "data": {
            "text/plain": [
              "[<matplotlib.lines.Line2D at 0x7fbebbd8fdd8>]"
            ]
          },
          "metadata": {
            "tags": []
          },
          "execution_count": 26
        },
        {
          "output_type": "display_data",
          "data": {
            "image/png": "[encoded data removed]",
            "text/plain": [
              "<Figure size 432x288 with 1 Axes>"
            ]
          },
          "metadata": {
            "tags": [],
            "needs_background": "light"
          }
        }
      ]
    },
    {
      "cell_type": "code",
      "metadata": {
        "colab_type": "code",
        "id": "YIvjDI9qI8fU",
        "colab": {
          "base_uri": "https://localhost:8080/",
          "height": 353
        },
        "outputId": "5ae08804-1992-4d8a-fd96-477831b5f67b"
      },
      "source": [
        "model1 = Sequential()\n",
        "# first layer we need to mention the input shape\n",
        "\n",
        "model1.add(Flatten(input_shape=(28,28)))\n",
        "## 784 pixel values as input to this Dense. 128 Neurons in the layers\n",
        "model1.add(Dense(128,activation='relu'))# 784 * 128+128\n",
        "model1.add(Dense(256,activation='relu'))# \n",
        "model1.add(Dense(64,activation='relu'))\n",
        "model1.add(Dense(256,activation='relu'))\n",
        "#Final layer\n",
        "model1.add(Dense(10,activation='sigmoid'))\n",
        "model1.summary()"
      ],
      "execution_count": 27,
      "outputs": [
        {
          "output_type": "stream",
          "text": [
            "Model: \"sequential_2\"\n",
            "_________________________________________________________________\n",
            "Layer (type)                 Output Shape              Param #   \n",
            "=================================================================\n",
            "flatten_2 (Flatten)          (None, 784)               0         \n",
            "_________________________________________________________________\n",
            "dense_6 (Dense)              (None, 128)               100480    \n",
            "_________________________________________________________________\n",
            "dense_7 (Dense)              (None, 256)               33024     \n",
            "_________________________________________________________________\n",
            "dense_8 (Dense)              (None, 64)                16448     \n",
            "_________________________________________________________________\n",
            "dense_9 (Dense)              (None, 256)               16640     \n",
            "_________________________________________________________________\n",
            "dense_10 (Dense)             (None, 10)                2570      \n",
            "=================================================================\n",
            "Total params: 169,162\n",
            "Trainable params: 169,162\n",
            "Non-trainable params: 0\n",
            "_________________________________________________________________\n"
          ],
          "name": "stdout"
        }
      ]
    },
    {
      "cell_type": "code",
      "metadata": {
        "colab_type": "code",
        "id": "ow0mkZ0pJAGo",
        "colab": {}
      },
      "source": [
        "model1.compile(optimizer='adam',loss=tf.keras.losses.CategoricalCrossentropy(),metrics=['accuracy'])"
      ],
      "execution_count": 28,
      "outputs": []
    },
    {
      "cell_type": "code",
      "metadata": {
        "colab_type": "code",
        "id": "RAh-jRcCJDox",
        "colab": {
          "base_uri": "https://localhost:8080/",
          "height": 202
        },
        "outputId": "6e0d6be8-9b08-4c57-b806-b1b3210481fa"
      },
      "source": [
        "history=model1.fit(x=x_train,y=y_train,epochs=5,validation_data=(x_val,y_val),batch_size=32)"
      ],
      "execution_count": 29,
      "outputs": [
        {
          "output_type": "stream",
          "text": [
            "Train on 54000 samples, validate on 6000 samples\n",
            "Epoch 1/5\n",
            "54000/54000 [==============================] - 7s 128us/step - loss: 0.2629 - accuracy: 0.9204 - val_loss: 0.1474 - val_accuracy: 0.9575\n",
            "Epoch 2/5\n",
            "54000/54000 [==============================] - 7s 126us/step - loss: 0.1139 - accuracy: 0.9661 - val_loss: 0.0997 - val_accuracy: 0.9727\n",
            "Epoch 3/5\n",
            "54000/54000 [==============================] - 7s 123us/step - loss: 0.0817 - accuracy: 0.9741 - val_loss: 0.1113 - val_accuracy: 0.9713\n",
            "Epoch 4/5\n",
            "54000/54000 [==============================] - 7s 137us/step - loss: 0.0624 - accuracy: 0.9804 - val_loss: 0.1368 - val_accuracy: 0.9637\n",
            "Epoch 5/5\n",
            "54000/54000 [==============================] - 8s 140us/step - loss: 0.0520 - accuracy: 0.9843 - val_loss: 0.0971 - val_accuracy: 0.9735\n"
          ],
          "name": "stdout"
        }
      ]
    },
    {
      "cell_type": "code",
      "metadata": {
        "colab_type": "code",
        "id": "p8QLfl_EJPJk",
        "colab": {
          "base_uri": "https://localhost:8080/",
          "height": 50
        },
        "outputId": "50e572f3-0655-4d18-9fea-2d6834f3e052"
      },
      "source": [
        "model1.evaluate(test_digits_sc,test_labels_cat)"
      ],
      "execution_count": 30,
      "outputs": [
        {
          "output_type": "stream",
          "text": [
            "10000/10000 [==============================] - 0s 32us/step\n"
          ],
          "name": "stdout"
        },
        {
          "output_type": "execute_result",
          "data": {
            "text/plain": [
              "[0.09359293412512634, 0.9746999740600586]"
            ]
          },
          "metadata": {
            "tags": []
          },
          "execution_count": 30
        }
      ]
    },
    {
      "cell_type": "code",
      "metadata": {
        "colab_type": "code",
        "id": "hQtmTJURJZh8",
        "colab": {
          "base_uri": "https://localhost:8080/",
          "height": 67
        },
        "outputId": "18d7518a-a60f-41a3-c92b-fca5b2e72d6f"
      },
      "source": [
        "print(test_digits_sc.shape)\n",
        "print(test_digits_sc[0].shape)\n",
        "print(np.expand_dims(test_digits_sc[0],axis=0).shape)"
      ],
      "execution_count": 31,
      "outputs": [
        {
          "output_type": "stream",
          "text": [
            "(10000, 28, 28)\n",
            "(28, 28)\n",
            "(1, 28, 28)\n"
          ],
          "name": "stdout"
        }
      ]
    },
    {
      "cell_type": "code",
      "metadata": {
        "colab_type": "code",
        "id": "IvLGkyHMJdNC",
        "colab": {
          "base_uri": "https://localhost:8080/",
          "height": 67
        },
        "outputId": "95876df9-bd84-442c-bc8b-2a523bc57379"
      },
      "source": [
        "model.predict(np.expand_dims(test_digits_sc[0],axis=0))"
      ],
      "execution_count": 32,
      "outputs": [
        {
          "output_type": "execute_result",
          "data": {
            "text/plain": [
              "array([[3.2259102e-08, 8.8519400e-06, 7.6456473e-04, 5.4352693e-03,\n",
              "        1.0851468e-07, 3.0957682e-07, 3.6653316e-10, 9.9364626e-01,\n",
              "        1.5451136e-05, 1.2913547e-04]], dtype=float32)"
            ]
          },
          "metadata": {
            "tags": []
          },
          "execution_count": 32
        }
      ]
    },
    {
      "cell_type": "code",
      "metadata": {
        "colab_type": "code",
        "id": "TNNYypI4Jghk",
        "colab": {
          "base_uri": "https://localhost:8080/",
          "height": 521
        },
        "outputId": "760fb288-4c02-4ae7-ad3b-7aa8fbbba898"
      },
      "source": [
        "model.predict(test_digits_sc[:10])"
      ],
      "execution_count": 33,
      "outputs": [
        {
          "output_type": "execute_result",
          "data": {
            "text/plain": [
              "array([[3.22591660e-08, 8.85194004e-06, 7.64564727e-04, 5.43526933e-03,\n",
              "        1.08514683e-07, 3.09576819e-07, 3.66531749e-10, 9.93646264e-01,\n",
              "        1.54511363e-05, 1.29135471e-04],\n",
              "       [6.82882584e-10, 2.88805353e-08, 9.99999881e-01, 1.20368171e-07,\n",
              "        7.18075244e-09, 1.51135260e-09, 5.91664850e-09, 2.47308241e-09,\n",
              "        1.86138429e-08, 2.68054762e-11],\n",
              "       [1.77261583e-08, 9.99908566e-01, 1.63739005e-05, 6.11925827e-07,\n",
              "        2.67362993e-05, 2.51534721e-06, 4.04457342e-06, 2.36816722e-05,\n",
              "        1.60720920e-05, 1.38297219e-06],\n",
              "       [9.99633551e-01, 5.22104017e-07, 2.08353027e-04, 9.90220633e-06,\n",
              "        3.91371532e-06, 6.47144680e-06, 3.94953240e-05, 1.67524722e-05,\n",
              "        9.07112917e-06, 7.19823583e-05],\n",
              "       [3.27903260e-09, 5.83017759e-08, 4.76658970e-05, 2.20822458e-10,\n",
              "        9.99938488e-01, 3.54836338e-08, 6.33278842e-06, 2.43678301e-06,\n",
              "        1.71115445e-07, 4.89255899e-06],\n",
              "       [6.25732133e-10, 9.99959707e-01, 8.61470028e-07, 2.78078485e-08,\n",
              "        1.80175721e-05, 2.09764679e-07, 2.82771452e-07, 1.89186994e-05,\n",
              "        1.52752011e-06, 3.97330297e-07],\n",
              "       [6.71863347e-07, 1.97861755e-05, 5.34806401e-04, 1.50708985e-07,\n",
              "        9.93177176e-01, 2.31041195e-05, 1.67313742e-03, 1.67004782e-05,\n",
              "        4.45530703e-03, 9.90108310e-05],\n",
              "       [5.40483541e-07, 3.95519351e-07, 3.56224496e-06, 9.31318384e-04,\n",
              "        2.49631084e-05, 2.19561742e-04, 2.88253581e-08, 1.07996195e-04,\n",
              "        3.34806646e-06, 9.98708248e-01],\n",
              "       [2.51124970e-08, 8.16621881e-09, 9.32622129e-07, 8.70062922e-06,\n",
              "        2.31591429e-07, 9.99832749e-01, 1.13665141e-04, 5.71393777e-09,\n",
              "        3.87583668e-06, 3.97658187e-05],\n",
              "       [4.27187615e-07, 3.91272650e-08, 1.20849688e-06, 1.72990112e-05,\n",
              "        4.26903944e-06, 1.06587663e-06, 3.01153058e-09, 1.74961533e-05,\n",
              "        3.08666567e-05, 9.99927282e-01]], dtype=float32)"
            ]
          },
          "metadata": {
            "tags": []
          },
          "execution_count": 33
        }
      ]
    },
    {
      "cell_type": "code",
      "metadata": {
        "colab_type": "code",
        "id": "8sCpCpVbJji0",
        "colab": {
          "base_uri": "https://localhost:8080/",
          "height": 34
        },
        "outputId": "e5c20a9d-3493-4e66-a2ff-8efd2168ecae"
      },
      "source": [
        "model.predict_classes(np.expand_dims(test_digits_sc[0],axis=0))"
      ],
      "execution_count": 34,
      "outputs": [
        {
          "output_type": "execute_result",
          "data": {
            "text/plain": [
              "array([7])"
            ]
          },
          "metadata": {
            "tags": []
          },
          "execution_count": 34
        }
      ]
    },
    {
      "cell_type": "code",
      "metadata": {
        "colab_type": "code",
        "id": "tHiNVqYYJmPU",
        "colab": {
          "base_uri": "https://localhost:8080/",
          "height": 67
        },
        "outputId": "c9057083-8cee-4e49-fb52-d54bb0ea7d81"
      },
      "source": [
        "model.predict_proba(np.expand_dims(test_digits_sc[0],axis=0))"
      ],
      "execution_count": 35,
      "outputs": [
        {
          "output_type": "execute_result",
          "data": {
            "text/plain": [
              "array([[3.2259102e-08, 8.8519400e-06, 7.6456473e-04, 5.4352693e-03,\n",
              "        1.0851468e-07, 3.0957682e-07, 3.6653316e-10, 9.9364626e-01,\n",
              "        1.5451136e-05, 1.2913547e-04]], dtype=float32)"
            ]
          },
          "metadata": {
            "tags": []
          },
          "execution_count": 35
        }
      ]
    },
    {
      "cell_type": "code",
      "metadata": {
        "colab_type": "code",
        "id": "g8NlieSlJpjI",
        "colab": {
          "base_uri": "https://localhost:8080/",
          "height": 286
        },
        "outputId": "c8482b13-3c32-444d-dfe6-41f9a7bfa3a7"
      },
      "source": [
        "history.history"
      ],
      "execution_count": 36,
      "outputs": [
        {
          "output_type": "execute_result",
          "data": {
            "text/plain": [
              "{'accuracy': [0.9203889, 0.9660556, 0.97411114, 0.98044443, 0.9842963],\n",
              " 'loss': [0.26291396456556737,\n",
              "  0.11388422537705413,\n",
              "  0.0817135482037233,\n",
              "  0.062403061190723544,\n",
              "  0.05204336403554771],\n",
              " 'val_accuracy': [0.9574999809265137,\n",
              "  0.9726666808128357,\n",
              "  0.9713333249092102,\n",
              "  0.9636666774749756,\n",
              "  0.9735000133514404],\n",
              " 'val_loss': [0.14743323778609435,\n",
              "  0.09974984402457873,\n",
              "  0.1112916003788511,\n",
              "  0.13682572980225086,\n",
              "  0.09714365731870445]}"
            ]
          },
          "metadata": {
            "tags": []
          },
          "execution_count": 36
        }
      ]
    },
    {
      "cell_type": "code",
      "metadata": {
        "colab_type": "code",
        "id": "eDbr-93mJsXi",
        "colab": {
          "base_uri": "https://localhost:8080/",
          "height": 282
        },
        "outputId": "4afaa2b2-bb1b-4296-eea7-340224d51c8a"
      },
      "source": [
        "plt.plot(history.history['accuracy'])\n",
        "plt.plot(history.history['val_accuracy'])"
      ],
      "execution_count": 37,
      "outputs": [
        {
          "output_type": "execute_result",
          "data": {
            "text/plain": [
              "[<matplotlib.lines.Line2D at 0x7fbebae38240>]"
            ]
          },
          "metadata": {
            "tags": []
          },
          "execution_count": 37
        },
        {
          "output_type": "display_data",
          "data": {
            "image/png": "[encoded data removed]",
            "text/plain": [
              "<Figure size 432x288 with 1 Axes>"
            ]
          },
          "metadata": {
            "tags": [],
            "needs_background": "light"
          }
        }
      ]
    }
  ]
}