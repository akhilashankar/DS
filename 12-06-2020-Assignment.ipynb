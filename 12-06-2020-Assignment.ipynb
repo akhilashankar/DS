{
 "cells": [
  {
   "cell_type": "markdown",
   "metadata": {},
   "source": [
    "# CSE-221710313005-Akhila Shankar"
   ]
  },
  {
   "cell_type": "code",
   "execution_count": 1,
   "metadata": {},
   "outputs": [
    {
     "name": "stdout",
     "output_type": "stream",
     "text": [
      "4\n",
      "a\n",
      "ab\n",
      "abcd\n",
      "aaaa\n",
      "YES\n",
      "YES\n",
      "NO\n",
      "YES\n"
     ]
    }
   ],
   "source": [
    "#QUESTION 1:\n",
    "def L(x):\n",
    "    return x[1:]+x[0]\n",
    "def R(x):\n",
    "    return x[len(x)-1]+x[0:len(x)-1]\n",
    "t=int(input())\n",
    "list1=[input() for i in range(t)]\n",
    "for i in list1:\n",
    "    print(\"YES\") if L(i) == R(i) else print(\"NO\")"
   ]
  },
  {
   "cell_type": "code",
   "execution_count": 2,
   "metadata": {},
   "outputs": [
    {
     "name": "stdout",
     "output_type": "stream",
     "text": [
      "20 23 6\n",
      "2\n"
     ]
    }
   ],
   "source": [
    "#QUESTION 2\n",
    "i,j,k=map(int,input().split())\n",
    "c=0\n",
    "for n in range(i,j+1):\n",
    "    if((n-int(str(n)[::-1]))%2==0):\n",
    "        c+=1\n",
    "print(c)"
   ]
  },
  {
   "cell_type": "code",
   "execution_count": 3,
   "metadata": {},
   "outputs": [
    {
     "name": "stdout",
     "output_type": "stream",
     "text": [
      "4\n",
      "3 2 1 3\n",
      "2\n"
     ]
    }
   ],
   "source": [
    "#QUESTION 3\n",
    "n=int(input())\n",
    "a=list(map(int,input().split()))\n",
    "print(a.count(max(a)))"
   ]
  },
  {
   "cell_type": "code",
   "execution_count": 4,
   "metadata": {},
   "outputs": [
    {
     "name": "stdout",
     "output_type": "stream",
     "text": [
      "1,2,1\n",
      "211,3\n"
     ]
    }
   ],
   "source": [
    "#QUESTION 4\n",
    "import itertools as it\n",
    "a=list(map(str,input().split(',')))\n",
    "p = it.permutations(a, 3)\n",
    "x = list(set(p))               \n",
    "l = []\n",
    "for i in x:                          \n",
    "    p = ''.join(i)                   \n",
    "    l.append(int(p))\n",
    "l.sort()\n",
    "print(str(l[-1])+','+str(len(l)))"
   ]
  },
  {
   "cell_type": "code",
   "execution_count": 5,
   "metadata": {},
   "outputs": [
    {
     "name": "stdout",
     "output_type": "stream",
     "text": [
      "124\n",
      "545\n"
     ]
    }
   ],
   "source": [
    "#QUESTION 5\n",
    "n=int(input())\n",
    "while(True):\n",
    "    n=str(n)\n",
    "    if(n ==n[::-1]):\n",
    "        print(n)\n",
    "        break\n",
    "    else:\n",
    "        n=int(n)+int(n[::-1])"
   ]
  },
  {
   "cell_type": "code",
   "execution_count": 1,
   "metadata": {},
   "outputs": [
    {
     "name": "stdout",
     "output_type": "stream",
     "text": [
      "2\n",
      "5 3\n",
      "2 4 2 4 2\n",
      "output:\n",
      " 5 \n",
      "\n",
      "8 5\n",
      "9 3 5 7 8 11 17 2\n",
      "output:\n",
      " 3 \n",
      "\n"
     ]
    }
   ],
   "source": [
    "#QUESTION 6\n",
    "t=int(input())\n",
    "while(t>0):\n",
    "    n,k=map(int,input().split())\n",
    "    a=list(map(int,input().split()))\n",
    "    gre=0\n",
    "    l=0\n",
    "    pos=-1\n",
    "    long=0\n",
    "    for i in range(n):\n",
    "        if a[i]>k and gre!=0 and a[i]!=gre:\n",
    "            gre = a[i]\n",
    "            if long<l:\n",
    "                long=l\n",
    "            l = i - pos\n",
    "            pos=i\n",
    "            continue\n",
    "        elif a[i]>k:\n",
    "            gre = a[i]\n",
    "            pos=i\n",
    "        l+=1\n",
    "    if long<l:\n",
    "        long=l\n",
    "    t-=1\n",
    "    print(\"output:\\n\",long,\"\\n\")"
   ]
  },
  {
   "cell_type": "code",
   "execution_count": 2,
   "metadata": {},
   "outputs": [
    {
     "name": "stdout",
     "output_type": "stream",
     "text": [
      "xyz:750,abc:265,qwerty:195\n"
     ]
    },
    {
     "data": {
      "text/plain": [
       "'abc'"
      ]
     },
     "execution_count": 2,
     "metadata": {},
     "output_type": "execute_result"
    }
   ],
   "source": [
    "#QUESTION 7\n",
    "s=input()\n",
    "list1=s.split(\",\")\n",
    "list2=[i.split(\":\")[1] for i in list1]\n",
    "list3=[]\n",
    "for num in list2:\n",
    "    n=int(num)\n",
    "    rev=num[::-1]\n",
    "    while str(n)!=rev:\n",
    "        n=n+int(rev)\n",
    "        rev=str(n)[::-1]\n",
    "    list3.append(n)\n",
    "list1[list3.index(max(list3))].split(\":\")[0]"
   ]
  },
  {
   "cell_type": "code",
   "execution_count": 4,
   "metadata": {},
   "outputs": [
    {
     "name": "stdout",
     "output_type": "stream",
     "text": [
      "{'admin': ['local', 'public', 'administrator'], 'userA': ['local'], 'userB': ['public']}\n"
     ]
    }
   ],
   "source": [
    "#QUESTION 8\n",
    "def groups_per_user(group_dictionary):\n",
    "    user_groups = {}\n",
    "    for group, users in group_dictionary.items():\n",
    "        for user in users:\n",
    "            if user not in user_groups:\n",
    "                user_groups[user] = []\n",
    "            user_groups[user].append(group)\n",
    "    return user_groups\n",
    "print(groups_per_user({\"local\": [\"admin\", \"userA\"],\n",
    "        \"public\":  [\"admin\", \"userB\"],\n",
    "        \"administrator\": [\"admin\"] }))"
   ]
  },
  {
   "cell_type": "code",
   "execution_count": 1,
   "metadata": {},
   "outputs": [
    {
     "name": "stdout",
     "output_type": "stream",
     "text": [
      "london 40000 12,chicago 60000 20,munich 50000 15,paris 70000 5\n",
      "['london 40000 12', 'chicago 60000 20', 'munich 50000 15', 'paris 70000 5']\n",
      "paris munich "
     ]
    }
   ],
   "source": [
    "#QUESTION 9\n",
    "s=input()\n",
    "s1=s.split(',')\n",
    "print(s1)\n",
    "a={}\n",
    "b={}\n",
    "al=[]\n",
    "bl=[]\n",
    "for i in s1:\n",
    "    a1=list(i.split())\n",
    "    a[a1[0]]=int(a1[1])\n",
    "    b[a1[0]]=int(a1[2])\n",
    "a1 = sorted(a.items(), key=lambda x: x[1],reverse=True)\n",
    "b1 = sorted(b.items(), key=lambda x: x[1])\n",
    "for i in a1:\n",
    "    al.append(i[0])\n",
    "for i in b1:\n",
    "    bl.append(i[0])\n",
    "for i in range(0,len(a1)):\n",
    "    if(al[i]==bl[i]):\n",
    "        print(al[i],end=\" \")"
   ]
  },
  {
   "cell_type": "code",
   "execution_count": 2,
   "metadata": {},
   "outputs": [
    {
     "name": "stdout",
     "output_type": "stream",
     "text": [
      "[(8, 0, 0), (3, 5, 0), (0, 5, 3), (5, 0, 3), (5, 3, 0), (2, 3, 3), (2, 5, 1), (7, 0, 1), (7, 1, 0), (4, 1, 3), (4, 4, 0)]\n",
      "11\n"
     ]
    }
   ],
   "source": [
    "#QUESTION 10\n",
    "cap = (8,5,3)\n",
    "x = cap[0]\n",
    "y = cap[1]\n",
    "z = cap[2]\n",
    "memory = {}\n",
    "answer = []\n",
    "\n",
    "def get_all_states(state):\n",
    "    a = state[0]\n",
    "    b = state[1]\n",
    "    c = state[2]\n",
    "    if(a==4 and b==4):\n",
    "        answer.append(state)\n",
    "        return True\n",
    "    if((a,b,c) in memory):\n",
    "        return False\n",
    "    memory[(a,b,c)] = 1\n",
    "    if(a>0):\n",
    "        if(a+b<=y):\n",
    "            if( get_all_states((0,a+b,c)) ):\n",
    "                answer.append(state)\n",
    "                return True\n",
    "        else:\n",
    "            if( get_all_states((a-(y-b), y, c)) ):\n",
    "                answer.append(state)\n",
    "                return True\n",
    "        if(a+c<=z):\n",
    "            if( get_all_states((0,b,a+c)) ):\n",
    "                answer.append(state)\n",
    "                return True\n",
    "        else:\n",
    "            if( get_all_states((a-(z-c), b, z)) ):\n",
    "                answer.append(state)\n",
    "                return True\n",
    "    if(b>0):\n",
    "        if(a+b<=x):\n",
    "            if( get_all_states((a+b, 0, c)) ):\n",
    "                answer.append(state)\n",
    "                return True\n",
    "        else:\n",
    "            if( get_all_states((x, b-(x-a), c)) ):\n",
    "                answer.append(state)\n",
    "                return True\n",
    "        if(b+c<=z):\n",
    "            if( get_all_states((a, 0, b+c)) ):\n",
    "                answer.append(state)\n",
    "                return True\n",
    "        else:\n",
    "            if( get_all_states((a, b-(z-c), z)) ):\n",
    "                answer.append(state)\n",
    "                return True\n",
    "    if(c>0):\n",
    "        if(a+c<=x):\n",
    "            if( get_all_states((a+c, b, 0)) ):\n",
    "                ans.append(state)\n",
    "                return True\n",
    "        else:\n",
    "            if( get_all_states((x, b, c-(x-a))) ):\n",
    "                answer.append(state)\n",
    "                return True\n",
    "        if(b+c<=y):\n",
    "            if( get_all_states((a, b+c, 0)) ):\n",
    "                answer.append(state)\n",
    "                return True\n",
    "        else:\n",
    "            if( get_all_states((a, y, c-(y-b))) ):\n",
    "                answer.append(state)\n",
    "                return True\n",
    "    return False\n",
    "\n",
    "initial_state = (8,0,0)\n",
    "get_all_states(initial_state)\n",
    "answer.reverse()\n",
    "print(answer)\n",
    "print(len(answer))"
   ]
  },
  {
   "cell_type": "code",
   "execution_count": 3,
   "metadata": {},
   "outputs": [
    {
     "name": "stdout",
     "output_type": "stream",
     "text": [
      "4\n",
      "5\n"
     ]
    }
   ],
   "source": [
    "#QUESTION 11\n",
    "user_id=[1,1,2,3,3,4,4,4,5,5]\n",
    "user=list(set(user_id))\n",
    "ancestry=[\"england\",\"ireland\",\"france\",\"germany\",\"poland\",\"england\",\"france\",\"germany\",\"france\",\"germany\"]\n",
    "r={}\n",
    "for i in range(0,len(user_id)):\n",
    "    if(user_id[i] not in r.keys()):\n",
    "        r[user_id[i]]=[]\n",
    "        r[user_id[i]].append(ancestry[i])\n",
    "    else:\n",
    "        r[user_id[i]].append(ancestry[i])\n",
    "required=['france','germany']\n",
    "for i in range(0,len(user)):\n",
    "    if(set(required).issubset(set(r[user[i]]))):\n",
    "        print(user[i])\n"
   ]
  },
  {
   "cell_type": "code",
   "execution_count": null,
   "metadata": {},
   "outputs": [],
   "source": []
  }
 ],
 "metadata": {
  "kernelspec": {
   "display_name": "Python 3",
   "language": "python",
   "name": "python3"
  },
  "language_info": {
   "codemirror_mode": {
    "name": "ipython",
    "version": 3
   },
   "file_extension": ".py",
   "mimetype": "text/x-python",
   "name": "python",
   "nbconvert_exporter": "python",
   "pygments_lexer": "ipython3",
   "version": "3.7.6"
  }
 },
 "nbformat": 4,
 "nbformat_minor": 4
}
