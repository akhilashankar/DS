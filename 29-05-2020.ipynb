{
 "cells": [
  {
   "cell_type": "code",
   "execution_count": 4,
   "metadata": {},
   "outputs": [
    {
     "name": "stdout",
     "output_type": "stream",
     "text": [
      "1\n",
      "2\n",
      "3\n",
      "4\n",
      " \n",
      "1\n",
      "2\n",
      "3\n",
      "4\n",
      "6\n",
      "7\n",
      "8\n",
      "9\n"
     ]
    }
   ],
   "source": [
    "#loop control statements: break\n",
    "for i in range(1,11):\n",
    "    if i%5==0:\n",
    "        break\n",
    "    else:\n",
    "        print(i)\n",
    "#continue\n",
    "print(\" \")\n",
    "for i in range(1,11):\n",
    "    if i%5==0:\n",
    "        continue\n",
    "    else:\n",
    "        print(i)"
   ]
  },
  {
   "cell_type": "code",
   "execution_count": 7,
   "metadata": {},
   "outputs": [
    {
     "name": "stdout",
     "output_type": "stream",
     "text": [
      "enter username:python\n",
      "enter passwordfghj\n",
      "enter username:python\n",
      "enter passwordabc123\n",
      "login sucessful\n"
     ]
    }
   ],
   "source": [
    "#write a program to validate username and password given by the user.\n",
    "#If the user gives wrong credentials it should ask for username and password again again until the user gives correct details.\n",
    "#username: python\n",
    "#password: abc123\n",
    "while(True):\n",
    "    \n",
    "    uname=input(\"enter username:\")\n",
    "    paswrd=input(\"enter password\")\n",
    "    if(uname==\"python\" and paswrd==\"abc123\"):\n",
    "        print(\"login sucessful\")\n",
    "        break\n",
    "    else:\n",
    "        continue"
   ]
  },
  {
   "cell_type": "code",
   "execution_count": 8,
   "metadata": {},
   "outputs": [],
   "source": [
    "#pass---> for empty block\n",
    "if 12<34:\n",
    "    pass\n",
    "else:\n",
    "    print(\"else\")"
   ]
  },
  {
   "cell_type": "markdown",
   "metadata": {},
   "source": [
    "### functions\n",
    "block of statements\n",
    "1. predefined\n",
    "2. user-defined(custom function)"
   ]
  },
  {
   "cell_type": "markdown",
   "metadata": {},
   "source": [
    "```def func_name(parameter list):\n",
    "        statements\n",
    "        return```"
   ]
  },
  {
   "cell_type": "code",
   "execution_count": 11,
   "metadata": {},
   "outputs": [
    {
     "name": "stdout",
     "output_type": "stream",
     "text": [
      "hello akhila\n"
     ]
    }
   ],
   "source": [
    "def name(username):    #func definition\n",
    "    print(\"hello\",username)\n",
    "name(\"akhila\")  #func call"
   ]
  },
  {
   "cell_type": "code",
   "execution_count": 15,
   "metadata": {},
   "outputs": [
    {
     "name": "stdout",
     "output_type": "stream",
     "text": [
      "(60, -20, 800, 0.5)\n"
     ]
    }
   ],
   "source": [
    "def add(a,b):\n",
    "    return a+b,a-b,a*b,a/b\n",
    "print(add(20,40))"
   ]
  },
  {
   "cell_type": "code",
   "execution_count": 18,
   "metadata": {},
   "outputs": [
    {
     "name": "stdout",
     "output_type": "stream",
     "text": [
      "60 -20 800 0.5\n"
     ]
    }
   ],
   "source": [
    "def arithmetic(a,b):\n",
    "    return a+b,a-b,a*b,a/b\n",
    "add,sub,mul,div=arithmetic(20,40)\n",
    "print(add,sub,mul,div)"
   ]
  },
  {
   "cell_type": "markdown",
   "metadata": {},
   "source": [
    "### different types of arguments"
   ]
  },
  {
   "cell_type": "code",
   "execution_count": 22,
   "metadata": {},
   "outputs": [
    {
     "data": {
      "text/plain": [
       "3"
      ]
     },
     "execution_count": 22,
     "metadata": {},
     "output_type": "execute_result"
    }
   ],
   "source": [
    "def add(a,b):\n",
    "    return(a+b)\n",
    "#add(10)\n",
    "#add(13,15,15)\n",
    "add(1,2)"
   ]
  },
  {
   "cell_type": "code",
   "execution_count": 27,
   "metadata": {},
   "outputs": [
    {
     "name": "stdout",
     "output_type": "stream",
     "text": [
      "220\n",
      "50\n"
     ]
    }
   ],
   "source": [
    "#default arguments\n",
    "#all default arguments should be given from right to left ie. the end of parameter list\n",
    "def add(a,b=100):\n",
    "    return a+b\n",
    "print(add(120))\n",
    "print(add(20,30))"
   ]
  },
  {
   "cell_type": "code",
   "execution_count": 28,
   "metadata": {},
   "outputs": [
    {
     "name": "stdout",
     "output_type": "stream",
     "text": [
      "value of a is: 20\n",
      "value of b is: 10\n",
      "30\n"
     ]
    }
   ],
   "source": [
    "#keyword arguments\n",
    "def add(a,b):\n",
    "    print(\"value of a is:\",a)\n",
    "    print(\"value of b is:\",b)\n",
    "    return a+b\n",
    "print(add(b=10,a=20))"
   ]
  },
  {
   "cell_type": "code",
   "execution_count": 29,
   "metadata": {},
   "outputs": [
    {
     "name": "stdout",
     "output_type": "stream",
     "text": [
      "enter a:45\n",
      "enter b:87\n",
      "value of a is: 45\n",
      "value of b is: 87\n",
      "132\n"
     ]
    }
   ],
   "source": [
    "a=int(input(\"enter a:\"))\n",
    "b=int(input(\"enter b:\"))\n",
    "print(add(a,b))"
   ]
  },
  {
   "cell_type": "code",
   "execution_count": 33,
   "metadata": {},
   "outputs": [
    {
     "name": "stdout",
     "output_type": "stream",
     "text": [
      "3000\n",
      "253232\n"
     ]
    }
   ],
   "source": [
    "#variable length arguments\n",
    "#(120,230,34,450,460)-->tuple\n",
    "def add(*a):\n",
    "    m=1\n",
    "    for i in a:\n",
    "        m=m*i\n",
    "    return m\n",
    "print(add(100,30))\n",
    "print(add(34,76,98))"
   ]
  },
  {
   "cell_type": "code",
   "execution_count": 32,
   "metadata": {},
   "outputs": [
    {
     "name": "stdout",
     "output_type": "stream",
     "text": [
      "64\n",
      "16\n"
     ]
    }
   ],
   "source": [
    "#nested functions\n",
    "def square(a):\n",
    "    return a*a\n",
    "def cube(x):\n",
    "    return square(x)*x\n",
    "print(cube(4))\n",
    "print(square(4))"
   ]
  },
  {
   "cell_type": "markdown",
   "metadata": {},
   "source": [
    "### recursive function"
   ]
  },
  {
   "cell_type": "code",
   "execution_count": 48,
   "metadata": {},
   "outputs": [
    {
     "name": "stdout",
     "output_type": "stream",
     "text": [
      "enter n5\n",
      "120\n"
     ]
    }
   ],
   "source": [
    "#factorial of a number\n",
    "def fact(n):\n",
    "    if n==1:\n",
    "        return 1\n",
    "    else:\n",
    "        return n*fact(n-1)\n",
    "n=int(input(\"enter n\"))\n",
    "print(fact(n))"
   ]
  },
  {
   "cell_type": "code",
   "execution_count": 53,
   "metadata": {},
   "outputs": [
    {
     "name": "stdout",
     "output_type": "stream",
     "text": [
      "enter n:5\n",
      "0\n",
      "1\n",
      "1\n",
      "2\n",
      "3\n"
     ]
    }
   ],
   "source": [
    "#fibanocci using recursion\n",
    "def fib(n):\n",
    "    if n<=1:\n",
    "        return n\n",
    "    else:\n",
    "        return fib(n-1)+fib(n-2)\n",
    "n=int(input(\"enter n:\"))\n",
    "for i in range(n):\n",
    "    print(fib(i))"
   ]
  },
  {
   "cell_type": "markdown",
   "metadata": {},
   "source": [
    "### data structures\n",
    "1. List:\n",
    "    - [] elements separated by ,\n",
    "    \n",
    "    - indexed\n",
    "    - ordered\n",
    "    - duplicate values\n",
    "    - mutable\n",
    "    - any type of values"
   ]
  },
  {
   "cell_type": "code",
   "execution_count": 42,
   "metadata": {},
   "outputs": [
    {
     "name": "stdout",
     "output_type": "stream",
     "text": [
      "<class 'list'>\n"
     ]
    }
   ],
   "source": [
    "list1=[12,34.87,True,\"abc\",12]\n",
    "print(type(list1))"
   ]
  },
  {
   "cell_type": "code",
   "execution_count": 51,
   "metadata": {},
   "outputs": [
    {
     "name": "stdout",
     "output_type": "stream",
     "text": [
      "[1, 2, 3, 10, 20, 30]\n",
      "[1, 2, 3, 1, 2, 3, 1, 2, 3]\n",
      "2\n",
      "[2, 3]\n",
      "True\n",
      "False\n",
      "3\n",
      "1\n",
      "3\n",
      "['p', 'y', 't', 'h', 'o', 'n']\n"
     ]
    }
   ],
   "source": [
    "#operators separated by list: +,*,[],[:],in,not in\n",
    "list1=[1,2,3]\n",
    "list2=[10,20,30]\n",
    "s1=\"python\"\n",
    "print(list1+list2)\n",
    "print(list1*3) #repitition\n",
    "print(list1[1])\n",
    "print(list1[1:3])\n",
    "print(2 in list1)\n",
    "print(200 in list1)\n",
    "print(len(list1))\n",
    "print(min(list1))\n",
    "print(max(list1))\n",
    "list3=list(s1)\n",
    "print(list3)"
   ]
  },
  {
   "cell_type": "code",
   "execution_count": 54,
   "metadata": {},
   "outputs": [
    {
     "name": "stdout",
     "output_type": "stream",
     "text": [
      "[1, 2, 4]\n"
     ]
    }
   ],
   "source": [
    "list1[-1]=4  #replacing\n",
    "print(list1)"
   ]
  },
  {
   "cell_type": "code",
   "execution_count": null,
   "metadata": {},
   "outputs": [],
   "source": []
  }
 ],
 "metadata": {
  "kernelspec": {
   "display_name": "Python 3",
   "language": "python",
   "name": "python3"
  },
  "language_info": {
   "codemirror_mode": {
    "name": "ipython",
    "version": 3
   },
   "file_extension": ".py",
   "mimetype": "text/x-python",
   "name": "python",
   "nbconvert_exporter": "python",
   "pygments_lexer": "ipython3",
   "version": "3.7.4"
  }
 },
 "nbformat": 4,
 "nbformat_minor": 2
}
