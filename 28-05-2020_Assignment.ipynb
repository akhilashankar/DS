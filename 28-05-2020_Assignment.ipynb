{
 "cells": [
  {
   "cell_type": "markdown",
   "metadata": {},
   "source": [
    "# CSE-221710313005-AKHILA SHANKAR"
   ]
  },
  {
   "cell_type": "code",
   "execution_count": 9,
   "metadata": {},
   "outputs": [
    {
     "name": "stdout",
     "output_type": "stream",
     "text": [
      "enter stringapple@\n",
      "Vowels: 2\n",
      "Consonant: 3\n",
      "Special Character: 1\n"
     ]
    }
   ],
   "source": [
    "#1 question\n",
    "vowels = 0\n",
    "consonant = 0\n",
    "specialChar = 0\n",
    "str=input(\"enter string\")\n",
    "   \n",
    "for i in range(0, len(str)):  \n",
    "          \n",
    "    ch = str[i]  \n",
    "    if ( (ch >= 'a' and ch <= 'z') or \n",
    "         (ch >= 'A' and ch <= 'Z') ):   \n",
    "           \n",
    "  \n",
    "        if (ch == 'a' or ch == 'e' or ch == 'i' \n",
    "                     or ch == 'o' or ch == 'u'): \n",
    "            vowels += 1\n",
    "        else: \n",
    "            consonant += 1\n",
    "          \n",
    "    else: \n",
    "        specialChar += 1\n",
    "      \n",
    "print(\"Vowels:\", vowels) \n",
    "print(\"Consonant:\", consonant)   \n",
    "print(\"Special Character:\", specialChar)  \n",
    "   \n"
   ]
  },
  {
   "cell_type": "code",
   "execution_count": 1,
   "metadata": {},
   "outputs": [
    {
     "name": "stdout",
     "output_type": "stream",
     "text": [
      "enter string:abbaaccbbaaa\n",
      "2\n"
     ]
    }
   ],
   "source": [
    "#2 question\n",
    "str=input(\"enter string:\")\n",
    "count=str.count(\"aa\")\n",
    "print(count)\n",
    "        "
   ]
  },
  {
   "cell_type": "code",
   "execution_count": 17,
   "metadata": {},
   "outputs": [
    {
     "name": "stdout",
     "output_type": "stream",
     "text": [
      "enter string:((((()()()))))()\n",
      "8\n"
     ]
    }
   ],
   "source": [
    "#3 question\n",
    "str=input(\"enter string:\")\n",
    "c1=0\n",
    "c2=0\n",
    "for i in range(0, len(str)):\n",
    "    if(str[i]=='('):\n",
    "        c1=c1+1;\n",
    "    else:\n",
    "        c2=c2+1;\n",
    "if(c1==c2):\n",
    "    print(c1)"
   ]
  },
  {
   "cell_type": "code",
   "execution_count": 2,
   "metadata": {},
   "outputs": [
    {
     "name": "stdout",
     "output_type": "stream",
     "text": [
      "enter max value:10\n",
      "9\n"
     ]
    }
   ],
   "source": [
    "#4 question\n",
    "max=int(input(\"enter max value:\"))\n",
    "cnt=0\n",
    "for num in range(1,max+1):\n",
    "    temp=num\n",
    "    rev=0\n",
    "    \n",
    "    while(temp>0):\n",
    "        rem=temp%10\n",
    "        rev=(rev*10)+rem\n",
    "        temp=temp//10\n",
    "    \n",
    "    if(num==rev):\n",
    "        cnt=cnt+1\n",
    "print(cnt)"
   ]
  },
  {
   "cell_type": "code",
   "execution_count": 16,
   "metadata": {},
   "outputs": [
    {
     "name": "stdout",
     "output_type": "stream",
     "text": [
      "enter n:127\n",
      "848\n"
     ]
    }
   ],
   "source": [
    "#5 question\n",
    "n=int(input(\"enter n:\"))\n",
    "while True:\n",
    "    temp=n\n",
    "    rev=0\n",
    "    \n",
    "    while(temp>0):\n",
    "        rem=temp%10\n",
    "        rev=(rev*10)+rem\n",
    "        temp=temp//10\n",
    "    \n",
    "    if(n==rev):\n",
    "        print(rev)\n",
    "        break\n",
    "    else:\n",
    "        n=n+rev\n",
    "    \n",
    "    "
   ]
  },
  {
   "cell_type": "code",
   "execution_count": 12,
   "metadata": {},
   "outputs": [
    {
     "name": "stdout",
     "output_type": "stream",
     "text": [
      "p u b o i f "
     ]
    }
   ],
   "source": [
    "#6 question\n",
    "def replaceCharacterType(str): \n",
    "    vowel = False\n",
    "    consonant = False\n",
    "    for i in range(0, len(str)):           \n",
    "        ch = str[i]    \n",
    "        if ( (ch >= 'a' and ch <= 'z') or \n",
    "             (ch >= 'A' and ch <= 'Z') ):  \n",
    "            if(isVowel(ch)):\n",
    "                vowel = True\n",
    "            else:\n",
    "                consonant = True\n",
    "            if (vowel == True): \n",
    "                print(chr(ord(ch) + 1), end =\" \")\n",
    "                vowel = False\n",
    "            else: \n",
    "                i=1\n",
    "                while True:\n",
    "                    tmp = chr(ord(ch)+i)\n",
    "                    if (isVowel(tmp)):\n",
    "                        print(tmp, end =\" \")\n",
    "                        break\n",
    "                    else:\n",
    "                        i +=1\n",
    "\n",
    "def isVowel(ch):\n",
    "    ch = ch.lower()   \n",
    "    if (ch == 'a' or ch == 'e' or ch == 'i' \n",
    "            or ch == 'o' or ch == 'u'):\n",
    "                return True\n",
    "    else:\n",
    "        return False\n",
    "str = \"orange\"\n",
    "replaceCharacterType(str)"
   ]
  },
  {
   "cell_type": "code",
   "execution_count": 37,
   "metadata": {},
   "outputs": [
    {
     "name": "stdout",
     "output_type": "stream",
     "text": [
      "enter string:appli123cat98\n",
      "23\n"
     ]
    }
   ],
   "source": [
    "#7 question\n",
    "str1=input(\"enter string:\")\n",
    "sum_digit = 0\n",
    "for x in str1:\n",
    "    if x.isdigit() == True:\n",
    "        z = int(x)\n",
    "        sum_digit = sum_digit + z\n",
    "print(sum_digit)"
   ]
  },
  {
   "cell_type": "code",
   "execution_count": 36,
   "metadata": {},
   "outputs": [
    {
     "name": "stdout",
     "output_type": "stream",
     "text": [
      "Enter score: 0.85\n",
      "B\n"
     ]
    }
   ],
   "source": [
    "#8 question\n",
    "score = float(input(\"Enter score: \"))\n",
    "if score>1.0 or score<0.0 :\n",
    "\tprint(\"error\")\n",
    "elif score>=0.9 :\n",
    "  \tprint('A')\n",
    "elif score>=0.8 :\n",
    "    print('B')\n",
    "elif score>=0.7 :\n",
    "    print('C')\n",
    "elif score>=0.6 :\n",
    "    print('D')\n",
    "else :\n",
    "    print('F') "
   ]
  },
  {
   "cell_type": "code",
   "execution_count": 34,
   "metadata": {},
   "outputs": [
    {
     "name": "stdout",
     "output_type": "stream",
     "text": [
      "fizzbuzz\n",
      "1\n",
      "2\n",
      "fizz\n",
      "4\n",
      "buzz\n",
      "fizz\n",
      "7\n",
      "8\n",
      "fizz\n",
      "buzz\n",
      "11\n",
      "fizz\n",
      "13\n",
      "14\n",
      "fizzbuzz\n",
      "16\n",
      "17\n",
      "fizz\n",
      "19\n",
      "buzz\n",
      "fizz\n",
      "22\n",
      "23\n",
      "fizz\n",
      "buzz\n",
      "26\n",
      "fizz\n",
      "28\n",
      "29\n",
      "fizzbuzz\n",
      "31\n",
      "32\n",
      "fizz\n",
      "34\n",
      "buzz\n",
      "fizz\n",
      "37\n",
      "38\n",
      "fizz\n",
      "buzz\n",
      "41\n",
      "fizz\n",
      "43\n",
      "44\n",
      "fizzbuzz\n",
      "46\n",
      "47\n",
      "fizz\n",
      "49\n",
      "buzz\n"
     ]
    }
   ],
   "source": [
    "#9 question\n",
    "for fizzbuzz in range(51):\n",
    "    if fizzbuzz % 3 == 0 and fizzbuzz % 5 == 0:\n",
    "        print(\"fizzbuzz\")\n",
    "        continue\n",
    "    elif fizzbuzz % 3 == 0:\n",
    "        print(\"fizz\")\n",
    "        continue\n",
    "    elif fizzbuzz % 5 == 0:\n",
    "        print(\"buzz\")\n",
    "        continue\n",
    "    print(fizzbuzz)"
   ]
  },
  {
   "cell_type": "code",
   "execution_count": 33,
   "metadata": {},
   "outputs": [
    {
     "name": "stdout",
     "output_type": "stream",
     "text": [
      "first number: 26\n",
      "second number: 15\n",
      "third number: 29\n",
      "26\n"
     ]
    }
   ],
   "source": [
    "#10 question\n",
    "a = int(input(\"first number: \"))\n",
    "b = int(input(\"second number: \"))\n",
    "c = int(input(\"third number: \"))\n",
    "if a > b:\n",
    "    if a < c:\n",
    "        median = a\n",
    "    elif b > c:\n",
    "        median = b\n",
    "    else:\n",
    "        median = c\n",
    "else:\n",
    "    if a > c:\n",
    "        median = a\n",
    "    elif b < c:\n",
    "        median = b\n",
    "    else:\n",
    "        median = c\n",
    "\n",
    "print(median)"
   ]
  },
  {
   "cell_type": "code",
   "execution_count": null,
   "metadata": {},
   "outputs": [],
   "source": []
  }
 ],
 "metadata": {
  "kernelspec": {
   "display_name": "Python 3",
   "language": "python",
   "name": "python3"
  },
  "language_info": {
   "codemirror_mode": {
    "name": "ipython",
    "version": 3
   },
   "file_extension": ".py",
   "mimetype": "text/x-python",
   "name": "python",
   "nbconvert_exporter": "python",
   "pygments_lexer": "ipython3",
   "version": "3.7.4"
  }
 },
 "nbformat": 4,
 "nbformat_minor": 2
}
