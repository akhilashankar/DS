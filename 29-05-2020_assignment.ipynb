{
 "cells": [
  {
   "cell_type": "markdown",
   "metadata": {},
   "source": [
    "# CSE-221710313005-Akhila Shankar"
   ]
  },
  {
   "cell_type": "code",
   "execution_count": 1,
   "metadata": {},
   "outputs": [
    {
     "name": "stdout",
     "output_type": "stream",
     "text": [
      "enter n5\n",
      "120\n"
     ]
    }
   ],
   "source": [
    "#1 question\n",
    "def fact(n):\n",
    "    if n==1:\n",
    "        return 1\n",
    "    else:\n",
    "        return n*fact(n-1)\n",
    "n=int(input(\"enter n\"))\n",
    "print(fact(n))"
   ]
  },
  {
   "cell_type": "code",
   "execution_count": 2,
   "metadata": {},
   "outputs": [
    {
     "name": "stdout",
     "output_type": "stream",
     "text": [
      "enter n:8\n",
      "0\n",
      "1\n",
      "1\n",
      "2\n",
      "3\n",
      "5\n",
      "8\n",
      "13\n"
     ]
    }
   ],
   "source": [
    "#2 question\n",
    "def fib(n):\n",
    "    if n<=1:\n",
    "        return n\n",
    "    else:\n",
    "        return fib(n-1)+fib(n-2)\n",
    "n=int(input(\"enter n:\"))\n",
    "for i in range(n):\n",
    "    print(fib(i))"
   ]
  },
  {
   "cell_type": "code",
   "execution_count": 4,
   "metadata": {},
   "outputs": [
    {
     "name": "stdout",
     "output_type": "stream",
     "text": [
      "enter size6\n",
      "7\n",
      "6\n",
      "4\n",
      "5\n",
      "8\n",
      "2\n",
      "sum= 32\n"
     ]
    }
   ],
   "source": [
    "#3question\n",
    "list1=[]\n",
    "n=int(input(\"enter size\"))\n",
    "for i in range(0,n):\n",
    "    item=int(input())\n",
    "    list1.append(item)\n",
    "sum=0\n",
    "for i in range(0,n):\n",
    "    sum=sum+list1[i]\n",
    "print(\"sum=\",sum)"
   ]
  },
  {
   "cell_type": "code",
   "execution_count": 6,
   "metadata": {},
   "outputs": [
    {
     "name": "stdout",
     "output_type": "stream",
     "text": [
      "enter size6\n",
      "1\n",
      "2\n",
      "3\n",
      "4\n",
      "5\n",
      "6\n",
      " \n",
      "2\n",
      "4\n",
      "6\n"
     ]
    }
   ],
   "source": [
    "#4 question\n",
    "list1=[]\n",
    "n=int(input(\"enter size\"))\n",
    "for i in range(0,n):\n",
    "    item=int(input())\n",
    "    list1.append(item)\n",
    "print(\" \")\n",
    "for i in range(0,n):\n",
    "    if(list1[i]%2==0):\n",
    "        print(list1[i])\n",
    "    else:\n",
    "        continue"
   ]
  },
  {
   "cell_type": "code",
   "execution_count": 11,
   "metadata": {},
   "outputs": [
    {
     "name": "stdout",
     "output_type": "stream",
     "text": [
      "enter size6\n",
      "4\n",
      "7\n",
      "6\n",
      "2\n",
      "9\n",
      "6\n",
      "[4, 7, 6, 2, 9, 6]\n",
      "min= 2\n",
      "min value index= 4\n"
     ]
    }
   ],
   "source": [
    "#5 question\n",
    "list1=[]\n",
    "n=int(input(\"enter size\"))\n",
    "for i in range(0,n):\n",
    "    item=int(input())\n",
    "    list1.append(item)\n",
    "print(list1)\n",
    "print(\"min=\",min(list1))\n",
    "print(\"min value index=\",list1.index(min(list1))+1)"
   ]
  },
  {
   "cell_type": "code",
   "execution_count": 8,
   "metadata": {},
   "outputs": [
    {
     "name": "stdout",
     "output_type": "stream",
     "text": [
      "enter string:mom\n",
      "Palindrome\n"
     ]
    }
   ],
   "source": [
    "#6 question\n",
    "def isPalindrome(str): \n",
    "    for i in range(0, int(len(str)/2)):  \n",
    "        if str[i] != str[len(str)-i-1]: \n",
    "            return False\n",
    "    return True\n",
    "  \n",
    "s = input(\"enter string:\")\n",
    "ans = isPalindrome(s) \n",
    "  \n",
    "if (ans): \n",
    "    print(\"Palindrome\") \n",
    "else: \n",
    "    print(\"Not a Palindrome\")"
   ]
  },
  {
   "cell_type": "code",
   "execution_count": 12,
   "metadata": {},
   "outputs": [
    {
     "name": "stdout",
     "output_type": "stream",
     "text": [
      "enter size6\n",
      "3\n",
      "5\n",
      "8\n",
      "2\n",
      "6\n",
      "2\n",
      "[3, 5, 8, 2, 6, 2]\n",
      "Number of even numbers: 4\n",
      "Number of odd numbers: 2\n"
     ]
    }
   ],
   "source": [
    "#7 question\n",
    "list1=[]\n",
    "n=int(input(\"enter size\"))\n",
    "for i in range(0,n):\n",
    "    item=int(input())\n",
    "    list1.append(item)\n",
    "print(list1)\n",
    "e=0\n",
    "o=0\n",
    "for i in range(0,n):\n",
    "    if(list1[i]%2==0):\n",
    "        e=e+1\n",
    "    else:\n",
    "        o=o+1\n",
    "print(\"Number of even numbers:\",e)\n",
    "print(\"Number of odd numbers:\",o)"
   ]
  },
  {
   "cell_type": "code",
   "execution_count": 14,
   "metadata": {},
   "outputs": [
    {
     "name": "stdout",
     "output_type": "stream",
     "text": [
      "0 1 2 4 5 "
     ]
    }
   ],
   "source": [
    "#8 question\n",
    "for i in range(0,7):\n",
    "    if(i!=0 and i%3==0):\n",
    "        continue\n",
    "    else:\n",
    "        print(i,end=\" \")"
   ]
  },
  {
   "cell_type": "code",
   "execution_count": 4,
   "metadata": {},
   "outputs": [
    {
     "name": "stdout",
     "output_type": "stream",
     "text": [
      "enter n:2\n",
      "Prime number\n"
     ]
    }
   ],
   "source": [
    "#9 question\n",
    "def prime(n):\n",
    "    count=0\n",
    "    for i in range(1,n+1):\n",
    "        if(n%i==0):\n",
    "            count=count+1\n",
    "        else:\n",
    "            continue\n",
    "    if(count>2):\n",
    "        print(\"Not prime\")\n",
    "    else:\n",
    "        print(\"Prime number\")\n",
    "n=int(input(\"enter n:\"))\n",
    "prime(n)"
   ]
  },
  {
   "cell_type": "code",
   "execution_count": 5,
   "metadata": {},
   "outputs": [
    {
     "name": "stdout",
     "output_type": "stream",
     "text": [
      "12\n",
      "adam number\n"
     ]
    }
   ],
   "source": [
    "#10 question\n",
    "def adam(number):\n",
    "    reverse=number[::-1]\n",
    "    number_sqr=int(number)**2\n",
    "    reverse_sqr=int(reverse )**2\n",
    "    if int(number_sqr )==int(str(reverse_sqr)[::-1]):\n",
    "       print(\"adam number\")\n",
    "    else:\n",
    "       print(\"not a adam number\")\n",
    "number=input()\n",
    "adam(number)"
   ]
  },
  {
   "cell_type": "code",
   "execution_count": null,
   "metadata": {},
   "outputs": [],
   "source": []
  }
 ],
 "metadata": {
  "kernelspec": {
   "display_name": "Python 3",
   "language": "python",
   "name": "python3"
  },
  "language_info": {
   "codemirror_mode": {
    "name": "ipython",
    "version": 3
   },
   "file_extension": ".py",
   "mimetype": "text/x-python",
   "name": "python",
   "nbconvert_exporter": "python",
   "pygments_lexer": "ipython3",
   "version": "3.7.4"
  }
 },
 "nbformat": 4,
 "nbformat_minor": 2
}
