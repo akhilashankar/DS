{
 "cells": [
  {
   "cell_type": "markdown",
   "metadata": {},
   "source": [
    "# CSE-221710313005-Akhila Shankar"
   ]
  },
  {
   "cell_type": "code",
   "execution_count": 10,
   "metadata": {},
   "outputs": [
    {
     "name": "stdout",
     "output_type": "stream",
     "text": [
      "number of lines in the file= 2\n",
      "number of words in the file= 6\n",
      "number of letters in the file= 26\n"
     ]
    }
   ],
   "source": [
    "#Question 1:\n",
    "#Count the no.of words,no.of letters,no.of lines available in your file\n",
    "\n",
    "\n",
    "file = open(\"sample.txt\",\"r\") \n",
    "Content = file.read() \n",
    "list1 = Content.split(\"\\n\") \n",
    "list2 = Content.split()\n",
    "print(\"number of lines in the file=\",len(list1))\n",
    "print(\"number of words in the file=\",len(list2))\n",
    "print(\"number of letters in the file=\",sum(len(word) for word in list2))"
   ]
  },
  {
   "cell_type": "code",
   "execution_count": 20,
   "metadata": {},
   "outputs": [],
   "source": [
    "#Question 2:\n",
    "#Copy the content of one file to another\n",
    "with open(\"sample.txt\") as f:\n",
    "    with open(\"text.txt\",\"w\") as f1:\n",
    "        for line in f:\n",
    "            f1.write(line)\n"
   ]
  },
  {
   "cell_type": "code",
   "execution_count": 14,
   "metadata": {},
   "outputs": [
    {
     "name": "stdout",
     "output_type": "stream",
     "text": [
      "paragraphs\n",
      "pages\n"
     ]
    }
   ],
   "source": [
    "#Question 3:\n",
    "#Display the words starting with letter 'p'\n",
    "\n",
    "file=open(\"sample.txt\",\"r\")\n",
    "content=file.read()\n",
    "list1=content.split()\n",
    "for word in list1:\n",
    "    if word.startswith(\"p\"):\n",
    "        print(word)\n",
    "    continue\n"
   ]
  },
  {
   "cell_type": "code",
   "execution_count": 18,
   "metadata": {},
   "outputs": [],
   "source": [
    "#Question 4:\n",
    "#remove files\n",
    "import os\n",
    "os.remove(\"file.txt\")\n"
   ]
  },
  {
   "cell_type": "code",
   "execution_count": null,
   "metadata": {},
   "outputs": [],
   "source": [
    "#question 4: rename files\n",
    "import os\n",
    "os.rename(\"text.txt\",\"text1.txt\")\n"
   ]
  },
  {
   "cell_type": "code",
   "execution_count": null,
   "metadata": {},
   "outputs": [],
   "source": []
  }
 ],
 "metadata": {
  "kernelspec": {
   "display_name": "Python 3",
   "language": "python",
   "name": "python3"
  },
  "language_info": {
   "codemirror_mode": {
    "name": "ipython",
    "version": 3
   },
   "file_extension": ".py",
   "mimetype": "text/x-python",
   "name": "python",
   "nbconvert_exporter": "python",
   "pygments_lexer": "ipython3",
   "version": "3.7.4"
  }
 },
 "nbformat": 4,
 "nbformat_minor": 2
}
