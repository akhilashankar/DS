{
 "cells": [
  {
   "cell_type": "markdown",
   "metadata": {},
   "source": [
    "# CSE-221710313005-Akhila Shankar"
   ]
  },
  {
   "cell_type": "code",
   "execution_count": 10,
   "metadata": {},
   "outputs": [
    {
     "name": "stdout",
     "output_type": "stream",
     "text": [
      "number of lines in the file= 2\n",
      "number of words in the file= 6\n",
      "number of letters in the file= 26\n"
     ]
    }
   ],
   "source": [
    "#Question 1:\n",
    "#Count the no.of words,no.of letters,no.of lines available in your file\n",
    "\n",
    "\n",
    "file = open(\"sample.txt\",\"r\") \n",
    "Content = file.read() \n",
    "list1 = Content.split(\"\\n\") \n",
    "list2 = Content.split()\n",
    "print(\"number of lines in the file=\",len(list1))\n",
    "print(\"number of words in the file=\",len(list2))\n",
    "print(\"number of letters in the file=\",sum(len(word) for word in list2))"
   ]
  },
  {
   "cell_type": "code",
   "execution_count": 20,
   "metadata": {},
   "outputs": [],
   "source": [
    "#Question 2:\n",
    "#Copy the content of one file to another\n",
    "with open(\"sample.txt\") as f:\n",
    "    with open(\"text.txt\",\"w\") as f1:\n",
    "        for line in f:\n",
    "            f1.write(line)\n"
   ]
  },
  {
   "cell_type": "code",
   "execution_count": 14,
   "metadata": {},
   "outputs": [
    {
     "name": "stdout",
     "output_type": "stream",
     "text": [
      "paragraphs\n",
      "pages\n"
     ]
    }
   ],
   "source": [
    "#Question 3:\n",
    "#Display the words starting with letter 'p'\n",
    "\n",
    "file=open(\"sample.txt\",\"r\")\n",
    "content=file.read()\n",
    "list1=content.split()\n",
    "for word in list1:\n",
    "    if word.startswith(\"p\"):\n",
    "        print(word)\n",
    "    continue\n"
   ]
  },
  {
   "cell_type": "code",
   "execution_count": 18,
   "metadata": {},
   "outputs": [],
   "source": [
    "#Question 4:\n",
    "#remove files\n",
    "import os\n",
    "os.remove(\"file.txt\")\n"
   ]
  },
  {
   "cell_type": "code",
   "execution_count": null,
   "metadata": {},
   "outputs": [],
   "source": [
    "#question 4: rename files\n",
    "import os\n",
    "os.rename(\"text.txt\",\"text1.txt\")\n"
   ]
  },
  {
   "cell_type": "code",
   "execution_count": 2,
   "metadata": {},
   "outputs": [
    {
     "name": "stdout",
     "output_type": "stream",
     "text": [
      "enter no. of elements in list:6\n",
      "3\n",
      "5\n",
      "2\n",
      "7\n",
      "3\n",
      "1\n",
      "the list is: [3, 5, 2, 7, 3, 1]\n",
      "sum is: 21\n"
     ]
    }
   ],
   "source": [
    "#6.sum of list elements\n",
    "x=[]\n",
    "n=int(input(\"enter no. of elements in list:\"))\n",
    "for i in range(0,n):\n",
    "    element=int(input())\n",
    "    x.append(element)\n",
    "print(\"the list is:\",x)\n",
    "s=0\n",
    "for i in range(0,len(x)):\n",
    "    s=s+x[i]\n",
    "print(\"sum is:\",s)"
   ]
  },
  {
   "cell_type": "code",
   "execution_count": 3,
   "metadata": {},
   "outputs": [
    {
     "name": "stdout",
     "output_type": "stream",
     "text": [
      "enter no. of elements in list:4\n",
      "2\n",
      "3\n",
      "2\n",
      "5\n",
      "the list is: [2, 3, 2, 5]\n",
      "the even numbers in list are:\n",
      "2\n",
      "2\n"
     ]
    }
   ],
   "source": [
    "#7.even numbers from the list\n",
    "x=[]\n",
    "n=int(input(\"enter no. of elements in list:\"))\n",
    "for i in range(0,n):\n",
    "    element=int(input())\n",
    "    x.append(element)\n",
    "print(\"the list is:\",x)\n",
    "print(\"the even numbers in list are:\")\n",
    "for i in range(0,len(x)):\n",
    "    if(x[i]%2==0):\n",
    "        print(x[i])"
   ]
  },
  {
   "cell_type": "code",
   "execution_count": 4,
   "metadata": {},
   "outputs": [
    {
     "name": "stdout",
     "output_type": "stream",
     "text": [
      "enter no. of elements in list:4\n",
      "2\n",
      "3\n",
      "6\n",
      "7\n",
      "the list is: [2, 3, 6, 7]\n",
      "smallest number in list is  2 at index  0\n"
     ]
    }
   ],
   "source": [
    "#8.smallest number and index of that number in list\n",
    "\n",
    "x=[]\n",
    "n=int(input(\"enter no. of elements in list:\"))\n",
    "for i in range(0,n):\n",
    "    element=int(input())\n",
    "    x.append(element)\n",
    "print(\"the list is:\",x)\n",
    "m=0\n",
    "t=x[0]\n",
    "for i in range(0,len(x)):\n",
    "    if(x[i]<t):\n",
    "        t=x[i]\n",
    "        m=i\n",
    "print(\"smallest number in list is \",t,\"at index \",m)"
   ]
  },
  {
   "cell_type": "code",
   "execution_count": 5,
   "metadata": {},
   "outputs": [
    {
     "name": "stdout",
     "output_type": "stream",
     "text": [
      "enter no. of elements in list:5\n",
      "2\n",
      "3\n",
      "1\n",
      "7\n",
      "6\n",
      "the list is: ['2', '3', '1', '7', '6']\n",
      "2\n"
     ]
    }
   ],
   "source": [
    "#9.Longest string in list\n",
    "x=[]\n",
    "n=int(input(\"enter no. of elements in list:\"))\n",
    "for i in range(0,n):\n",
    "    e=input()\n",
    "    x.append(e)\n",
    "print(\"the list is:\",x)\n",
    "m=-1\n",
    "for i in x:\n",
    "    if len(i)>m:\n",
    "        m=len(i)\n",
    "        res=i\n",
    "print(res)"
   ]
  },
  {
   "cell_type": "code",
   "execution_count": null,
   "metadata": {},
   "outputs": [],
   "source": [
    "#10\n",
    "def prime(n):\n",
    "    c=0\n",
    "    for i in range(1,n+1):\n",
    "        if(n%i==0):\n",
    "            c+=1\n",
    "    if(c==2):\n",
    "        print(\"it is prime\")\n",
    "    else:\n",
    "        print(\"it is not a prime\")\n",
    "x=int(input())\n",
    "prime(x)\n",
    "b=int(input(\"enter no. Of elements in list:\")\n",
    "li=[]\n",
    "for i in range(0,b):\n",
    "        ele=int(input())\n",
    "        li.append(ele)\n",
    "print(\"the list is:\",li)\n",
    "for i in range(0,len(li)):\n",
    "        v=0\n",
    "        for j in range(1,li[i]+1):\n",
    "             if(li[i]%j==0):\n",
    "                   v+=1\n",
    "        if(v==2):\n",
    "            print(li[i])\n"
   ]
  },
  {
   "cell_type": "code",
   "execution_count": 10,
   "metadata": {},
   "outputs": [
    {
     "name": "stdout",
     "output_type": "stream",
     "text": [
      "011010\n",
      "binary: 10101100000010\n",
      "octal: 25402\n"
     ]
    }
   ],
   "source": [
    "#11.Converting a number to binary or actal\n",
    "def binary(n):\n",
    "    x=bin(n)\n",
    "    x=x[2:]\n",
    "    print(\"binary:\",x)\n",
    "def octal(n):\n",
    "    y=oct(n)\n",
    "    y=y[2:]\n",
    "    print(\"octal:\",y)\n",
    "n=int(input())\n",
    "binary(n)\n",
    "octal(n)"
   ]
  },
  {
   "cell_type": "code",
   "execution_count": null,
   "metadata": {},
   "outputs": [],
   "source": []
  }
 ],
 "metadata": {
  "kernelspec": {
   "display_name": "Python 3",
   "language": "python",
   "name": "python3"
  },
  "language_info": {
   "codemirror_mode": {
    "name": "ipython",
    "version": 3
   },
   "file_extension": ".py",
   "mimetype": "text/x-python",
   "name": "python",
   "nbconvert_exporter": "python",
   "pygments_lexer": "ipython3",
   "version": "3.7.4"
  }
 },
 "nbformat": 4,
 "nbformat_minor": 2
}
